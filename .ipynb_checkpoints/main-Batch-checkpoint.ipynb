{
 "cells": [
  {
   "cell_type": "code",
   "execution_count": 1,
   "metadata": {},
   "outputs": [
    {
     "name": "stderr",
     "output_type": "stream",
     "text": [
      "Using TensorFlow backend.\n"
     ]
    }
   ],
   "source": [
    "import numpy\n",
    "from keras.models import Sequential\n",
    "from keras.layers import Dense\n",
    "from keras.layers import Dropout\n",
    "from keras.layers import LSTM\n",
    "from keras.callbacks import EarlyStopping, ModelCheckpoint\n",
    "from keras.utils import np_utils\n",
    "import os\n",
    "from datetime import datetime\n",
    "import matplotlib.pyplot as plt\n",
    "import sys\n",
    "import math        #import needed modules\n",
    "import pyaudio     #sudo apt-get install python-pyaudio\n",
    "import pandas as pd\n",
    "from sklearn.model_selection import train_test_split\n",
    "import random"
   ]
  },
  {
   "cell_type": "code",
   "execution_count": 26,
   "metadata": {},
   "outputs": [],
   "source": [
    "epochs = 60\n",
    "stepsPerEpochs= 20\n",
    "VALIDATION_SIZE = 1\n",
    "BATCH_SIZE = 128\n",
    "checkpoint =\"weights-improvement-{epoch:02d}-{loss:.4f}-bigger.hdf5\"\n",
    "seq_length = 200\n",
    "\n",
    "\n",
    "# load ascii text and covert to lowercase\n",
    "filename = \"wonderlandFull.txt\"\n",
    "filenameTest = \"wonderlandTest.txt\""
   ]
  },
  {
   "cell_type": "code",
   "execution_count": 27,
   "metadata": {},
   "outputs": [
    {
     "name": "stdout",
     "output_type": "stream",
     "text": [
      "Total Characters:  164200\n",
      "Total Vocab:  64\n"
     ]
    }
   ],
   "source": [
    "\n",
    "raw_text = open(filename, 'r', encoding='utf-8').read()\n",
    "raw_text = raw_text.lower()\n",
    "\n",
    "# create mapping of unique chars to integers\n",
    "chars = sorted(list(set(raw_text)))\n",
    "char_to_int = dict((c, i) for i, c in enumerate(chars))\n",
    "int_to_char = dict((i, c) for i, c in enumerate(chars))\n",
    "# summarize the loaded data\n",
    "n_chars = len(raw_text)\n",
    "n_vocab = len(chars)\n",
    "print(\"Total Characters: \", n_chars)\n",
    "print(\"Total Vocab: \", n_vocab)"
   ]
  },
  {
   "cell_type": "code",
   "execution_count": 28,
   "metadata": {},
   "outputs": [],
   "source": [
    "# define the LSTM model\n",
    "model = Sequential()\n",
    "model.add(LSTM(256, input_shape=(seq_length, 1), return_sequences=True))\n",
    "\n",
    "model.add(Dropout(0.2))\n",
    "#model.add(LSTM(256, return_sequences=True))\n",
    "#model.add(Dropout(0.2))\n",
    "model.add(LSTM(256))\n",
    "model.add(Dropout(0.2))\n",
    "model.add(Dense(len(char_to_int), activation='softmax'))\n",
    "model.compile(loss='categorical_crossentropy', optimizer='adam', metrics = ['accuracy'])\n"
   ]
  },
  {
   "cell_type": "code",
   "execution_count": 29,
   "metadata": {},
   "outputs": [],
   "source": [
    "\n",
    "if os.path.isfile(checkpoint):\n",
    "    model.load_weights(checkpoint)\n",
    "\n",
    "mc = ModelCheckpoint(checkpoint, monitor='loss', verbose=1, save_best_only=True, mode='min')\n",
    "es = EarlyStopping(monitor='val_loss', mode='min', verbose=1, patience=100, min_delta=0.000001)\n",
    "callbacks=[es, mc]"
   ]
  },
  {
   "cell_type": "code",
   "execution_count": 30,
   "metadata": {},
   "outputs": [],
   "source": [
    "\n",
    "# Load data\n",
    "def generate_arrays_from_file(path, batchsize):\n",
    "    dataX = []\n",
    "    dataY = []\n",
    "    batchcount = 0\n",
    "    while True:\n",
    "        with open(path) as f:\n",
    "\n",
    "            for i in range(0, n_chars - seq_length, 1):\n",
    "                seq_in = raw_text[i:i + seq_length]\n",
    "                seq_out = raw_text[i + seq_length]\n",
    "                dataX.append([char_to_int[char] for char in seq_in])\n",
    "                dataY.append(char_to_int[seq_out])\n",
    "\n",
    "                batchcount += 1\n",
    "\n",
    "                if batchcount > batchsize:\n",
    "                    X = numpy.reshape(dataX, (batchsize+1, seq_length, 1))\n",
    "                    \n",
    "                    onehot_encoded = list()\n",
    "\n",
    "                    for data in dataY:\n",
    "                        letter = [0 for _ in range(n_vocab)]\n",
    "                        letter[data] = 1\n",
    "\n",
    "                        onehot_encoded.append(letter)\n",
    "                        \n",
    "                    y = numpy.array(onehot_encoded)\n",
    "                        \n",
    "                    #print(len(y[0]),y[0])\n",
    "                    yield (X, y)                    \n",
    "                    dataX = []\n",
    "                    dataY = []\n",
    "                    batchcount = 0\n",
    "             "
   ]
  },
  {
   "cell_type": "code",
   "execution_count": 31,
   "metadata": {
    "scrolled": false
   },
   "outputs": [
    {
     "name": "stdout",
     "output_type": "stream",
     "text": [
      "Epoch 1/50\n",
      "10/10 [==============================] - 9s 926ms/step - loss: 3.4520 - acc: 0.1434 - val_loss: 3.1389 - val_acc: 0.1651\n",
      "\n",
      "Epoch 00001: loss improved from inf to 3.45204, saving model to weights-improvement-01-3.4520-bigger.hdf5\n",
      "Epoch 2/50\n",
      "10/10 [==============================] - 8s 767ms/step - loss: 3.1134 - acc: 0.1496 - val_loss: 3.0017 - val_acc: 0.1729\n",
      "\n",
      "Epoch 00002: loss improved from 3.45204 to 3.11345, saving model to weights-improvement-02-3.1134-bigger.hdf5\n",
      "Epoch 3/50\n",
      "10/10 [==============================] - 8s 775ms/step - loss: 3.0656 - acc: 0.1798 - val_loss: 2.9764 - val_acc: 0.1752\n",
      "\n",
      "Epoch 00003: loss improved from 3.11345 to 3.06556, saving model to weights-improvement-03-3.0656-bigger.hdf5\n",
      "Epoch 4/50\n",
      "10/10 [==============================] - 8s 759ms/step - loss: 3.0474 - acc: 0.1775 - val_loss: 2.9720 - val_acc: 0.1822\n",
      "\n",
      "Epoch 00004: loss improved from 3.06556 to 3.04735, saving model to weights-improvement-04-3.0474-bigger.hdf5\n",
      "Epoch 5/50\n",
      "10/10 [==============================] - 8s 763ms/step - loss: 2.9934 - acc: 0.1992 - val_loss: 2.9118 - val_acc: 0.2178\n",
      "\n",
      "Epoch 00005: loss improved from 3.04735 to 2.99341, saving model to weights-improvement-05-2.9934-bigger.hdf5\n",
      "Epoch 6/50\n",
      "10/10 [==============================] - 8s 813ms/step - loss: 2.8458 - acc: 0.2194 - val_loss: 2.7591 - val_acc: 0.2419\n",
      "\n",
      "Epoch 00006: loss improved from 2.99341 to 2.84580, saving model to weights-improvement-06-2.8458-bigger.hdf5\n",
      "Epoch 7/50\n",
      "10/10 [==============================] - 8s 803ms/step - loss: 2.9440 - acc: 0.2047 - val_loss: 2.8546 - val_acc: 0.2101\n",
      "\n",
      "Epoch 00007: loss did not improve from 2.84580\n",
      "Epoch 8/50\n",
      "10/10 [==============================] - 8s 800ms/step - loss: 3.1516 - acc: 0.1760 - val_loss: 2.8222 - val_acc: 0.2589\n",
      "\n",
      "Epoch 00008: loss did not improve from 2.84580\n",
      "Epoch 9/50\n",
      "10/10 [==============================] - 8s 767ms/step - loss: 2.8823 - acc: 0.1984 - val_loss: 2.8236 - val_acc: 0.2085\n",
      "\n",
      "Epoch 00009: loss did not improve from 2.84580\n",
      "Epoch 10/50\n",
      "10/10 [==============================] - 8s 782ms/step - loss: 2.8169 - acc: 0.2589 - val_loss: 2.7188 - val_acc: 0.2783\n",
      "\n",
      "Epoch 00010: loss improved from 2.84580 to 2.81691, saving model to weights-improvement-10-2.8169-bigger.hdf5\n",
      "Epoch 11/50\n",
      "10/10 [==============================] - 8s 769ms/step - loss: 2.8998 - acc: 0.2388 - val_loss: 2.8412 - val_acc: 0.2465\n",
      "\n",
      "Epoch 00011: loss did not improve from 2.81691\n",
      "Epoch 12/50\n",
      "10/10 [==============================] - 8s 772ms/step - loss: 2.8171 - acc: 0.2233 - val_loss: 2.7668 - val_acc: 0.2543\n",
      "\n",
      "Epoch 00012: loss did not improve from 2.81691\n",
      "Epoch 13/50\n",
      "10/10 [==============================] - 8s 790ms/step - loss: 2.8710 - acc: 0.2310 - val_loss: 2.8134 - val_acc: 0.2326\n",
      "\n",
      "Epoch 00013: loss did not improve from 2.81691\n",
      "Epoch 14/50\n",
      "10/10 [==============================] - 8s 759ms/step - loss: 2.8350 - acc: 0.2240 - val_loss: 2.7752 - val_acc: 0.2411\n",
      "\n",
      "Epoch 00014: loss did not improve from 2.81691\n",
      "Epoch 15/50\n",
      "10/10 [==============================] - 8s 767ms/step - loss: 2.7337 - acc: 0.2341 - val_loss: 2.6783 - val_acc: 0.2488\n",
      "\n",
      "Epoch 00015: loss improved from 2.81691 to 2.73366, saving model to weights-improvement-15-2.7337-bigger.hdf5\n",
      "Epoch 16/50\n",
      "10/10 [==============================] - 8s 766ms/step - loss: 2.9028 - acc: 0.2031 - val_loss: 2.8317 - val_acc: 0.2233\n",
      "\n",
      "Epoch 00016: loss did not improve from 2.73366\n",
      "Epoch 17/50\n",
      "10/10 [==============================] - 8s 783ms/step - loss: 2.8736 - acc: 0.2070 - val_loss: 2.8155 - val_acc: 0.2171\n",
      "\n",
      "Epoch 00017: loss did not improve from 2.73366\n",
      "Epoch 18/50\n",
      "10/10 [==============================] - 8s 786ms/step - loss: 2.8693 - acc: 0.2341 - val_loss: 2.8142 - val_acc: 0.2302\n",
      "\n",
      "Epoch 00018: loss did not improve from 2.73366\n",
      "Epoch 19/50\n",
      "10/10 [==============================] - 8s 813ms/step - loss: 2.7717 - acc: 0.2388 - val_loss: 2.7024 - val_acc: 0.2426\n",
      "\n",
      "Epoch 00019: loss did not improve from 2.73366\n",
      "Epoch 20/50\n",
      "10/10 [==============================] - 8s 803ms/step - loss: 2.9549 - acc: 0.2062 - val_loss: 2.8842 - val_acc: 0.2023\n",
      "\n",
      "Epoch 00020: loss did not improve from 2.73366\n",
      "Epoch 21/50\n",
      "10/10 [==============================] - 8s 770ms/step - loss: 2.8181 - acc: 0.2279 - val_loss: 2.7660 - val_acc: 0.2419\n",
      "\n",
      "Epoch 00021: loss did not improve from 2.73366\n",
      "Epoch 22/50\n",
      "10/10 [==============================] - 8s 772ms/step - loss: 2.7795 - acc: 0.2295 - val_loss: 2.7078 - val_acc: 0.2605\n",
      "\n",
      "Epoch 00022: loss did not improve from 2.73366\n",
      "Epoch 23/50\n",
      "10/10 [==============================] - 8s 773ms/step - loss: 2.6810 - acc: 0.2543 - val_loss: 2.6154 - val_acc: 0.2806\n",
      "\n",
      "Epoch 00023: loss improved from 2.73366 to 2.68098, saving model to weights-improvement-23-2.6810-bigger.hdf5\n",
      "Epoch 24/50\n",
      "10/10 [==============================] - 8s 769ms/step - loss: 2.8540 - acc: 0.2403 - val_loss: 2.7362 - val_acc: 0.2558\n",
      "\n",
      "Epoch 00024: loss did not improve from 2.68098\n",
      "Epoch 25/50\n",
      "10/10 [==============================] - 8s 768ms/step - loss: 2.8954 - acc: 0.1969 - val_loss: 2.8320 - val_acc: 0.2093\n",
      "\n",
      "Epoch 00025: loss did not improve from 2.68098\n",
      "Epoch 26/50\n",
      "10/10 [==============================] - 8s 769ms/step - loss: 2.7929 - acc: 0.2295 - val_loss: 2.7308 - val_acc: 0.2364\n",
      "\n",
      "Epoch 00026: loss did not improve from 2.68098\n",
      "Epoch 27/50\n",
      "10/10 [==============================] - 8s 771ms/step - loss: 2.7516 - acc: 0.2473 - val_loss: 2.7014 - val_acc: 0.2450\n",
      "\n",
      "Epoch 00027: loss did not improve from 2.68098\n",
      "Epoch 28/50\n",
      "10/10 [==============================] - 8s 777ms/step - loss: 2.7133 - acc: 0.2481 - val_loss: 2.6616 - val_acc: 0.2605\n",
      "\n",
      "Epoch 00028: loss did not improve from 2.68098\n",
      "Epoch 29/50\n",
      "10/10 [==============================] - 8s 784ms/step - loss: 2.8134 - acc: 0.2395 - val_loss: 2.7570 - val_acc: 0.2364\n",
      "\n",
      "Epoch 00029: loss did not improve from 2.68098\n",
      "Epoch 30/50\n",
      "10/10 [==============================] - 8s 776ms/step - loss: 2.7300 - acc: 0.2481 - val_loss: 2.6742 - val_acc: 0.2605\n",
      "\n",
      "Epoch 00030: loss did not improve from 2.68098\n",
      "Epoch 31/50\n",
      "10/10 [==============================] - 8s 779ms/step - loss: 2.8268 - acc: 0.2326 - val_loss: 2.7791 - val_acc: 0.2496\n",
      "\n",
      "Epoch 00031: loss did not improve from 2.68098\n",
      "Epoch 32/50\n",
      "10/10 [==============================] - 8s 777ms/step - loss: 2.9021 - acc: 0.2109 - val_loss: 2.8228 - val_acc: 0.2233\n",
      "\n",
      "Epoch 00032: loss did not improve from 2.68098\n",
      "Epoch 33/50\n",
      "10/10 [==============================] - 8s 766ms/step - loss: 2.8465 - acc: 0.2326 - val_loss: 2.7919 - val_acc: 0.2411\n",
      "\n",
      "Epoch 00033: loss did not improve from 2.68098\n",
      "Epoch 34/50\n",
      "10/10 [==============================] - 8s 786ms/step - loss: 2.6888 - acc: 0.2465 - val_loss: 2.6334 - val_acc: 0.2558\n",
      "\n",
      "Epoch 00034: loss did not improve from 2.68098\n",
      "Epoch 35/50\n",
      "10/10 [==============================] - 8s 804ms/step - loss: 2.7046 - acc: 0.2543 - val_loss: 2.6385 - val_acc: 0.2729\n",
      "\n",
      "Epoch 00035: loss did not improve from 2.68098\n",
      "Epoch 36/50\n",
      "10/10 [==============================] - 8s 795ms/step - loss: 2.7075 - acc: 0.2442 - val_loss: 2.6513 - val_acc: 0.2574\n",
      "\n",
      "Epoch 00036: loss did not improve from 2.68098\n",
      "Epoch 37/50\n",
      "10/10 [==============================] - 8s 779ms/step - loss: 2.8561 - acc: 0.2070 - val_loss: 2.7738 - val_acc: 0.2202\n",
      "\n",
      "Epoch 00037: loss did not improve from 2.68098\n",
      "Epoch 38/50\n",
      "10/10 [==============================] - 8s 773ms/step - loss: 2.8044 - acc: 0.2202 - val_loss: 2.7308 - val_acc: 0.2271\n",
      "\n",
      "Epoch 00038: loss did not improve from 2.68098\n",
      "Epoch 39/50\n",
      "10/10 [==============================] - 8s 786ms/step - loss: 2.8022 - acc: 0.2109 - val_loss: 2.7258 - val_acc: 0.2295\n",
      "\n",
      "Epoch 00039: loss did not improve from 2.68098\n",
      "Epoch 40/50\n",
      "10/10 [==============================] - 8s 774ms/step - loss: 2.7219 - acc: 0.2326 - val_loss: 2.6550 - val_acc: 0.2504\n",
      "\n",
      "Epoch 00040: loss did not improve from 2.68098\n",
      "Epoch 41/50\n",
      "10/10 [==============================] - 8s 782ms/step - loss: 2.7183 - acc: 0.2341 - val_loss: 2.6461 - val_acc: 0.2504\n",
      "\n",
      "Epoch 00041: loss did not improve from 2.68098\n",
      "Epoch 42/50\n",
      "10/10 [==============================] - 8s 786ms/step - loss: 2.5618 - acc: 0.3155 - val_loss: 2.5490 - val_acc: 0.2845\n",
      "\n",
      "Epoch 00042: loss improved from 2.68098 to 2.56176, saving model to weights-improvement-42-2.5618-bigger.hdf5\n",
      "Epoch 43/50\n"
     ]
    },
    {
     "name": "stdout",
     "output_type": "stream",
     "text": [
      "10/10 [==============================] - 8s 772ms/step - loss: 2.7200 - acc: 0.2457 - val_loss: 2.6672 - val_acc: 0.2581\n",
      "\n",
      "Epoch 00043: loss did not improve from 2.56176\n",
      "Epoch 44/50\n",
      "10/10 [==============================] - 8s 781ms/step - loss: 2.7974 - acc: 0.2310 - val_loss: 2.7255 - val_acc: 0.2411\n",
      "\n",
      "Epoch 00044: loss did not improve from 2.56176\n",
      "Epoch 45/50\n",
      "10/10 [==============================] - 8s 787ms/step - loss: 2.6886 - acc: 0.2504 - val_loss: 2.6360 - val_acc: 0.2566\n",
      "\n",
      "Epoch 00045: loss did not improve from 2.56176\n",
      "Epoch 46/50\n",
      "10/10 [==============================] - 8s 773ms/step - loss: 2.7491 - acc: 0.2488 - val_loss: 2.6966 - val_acc: 0.2566\n",
      "\n",
      "Epoch 00046: loss did not improve from 2.56176\n",
      "Epoch 47/50\n",
      "10/10 [==============================] - 8s 769ms/step - loss: 2.6864 - acc: 0.2628 - val_loss: 2.6314 - val_acc: 0.2698\n",
      "\n",
      "Epoch 00047: loss did not improve from 2.56176\n",
      "Epoch 48/50\n",
      "10/10 [==============================] - 8s 773ms/step - loss: 2.7194 - acc: 0.2419 - val_loss: 2.6694 - val_acc: 0.2496\n",
      "\n",
      "Epoch 00048: loss did not improve from 2.56176\n",
      "Epoch 49/50\n",
      "10/10 [==============================] - 8s 785ms/step - loss: 2.6472 - acc: 0.2550 - val_loss: 2.5879 - val_acc: 0.2620\n",
      "\n",
      "Epoch 00049: loss did not improve from 2.56176\n",
      "Epoch 50/50\n",
      "10/10 [==============================] - 8s 808ms/step - loss: 2.7227 - acc: 0.2543 - val_loss: 2.6652 - val_acc: 0.2581\n",
      "\n",
      "Epoch 00050: loss did not improve from 2.56176\n"
     ]
    }
   ],
   "source": [
    "history = model.fit_generator( generate_arrays_from_file(filename,BATCH_SIZE), epochs=epochs, steps_per_epoch=stepsPerEpochs, verbose=1, validation_data=generate_arrays_from_file(filenameTest,BATCH_SIZE),callbacks = callbacks, validation_steps=10)"
   ]
  },
  {
   "cell_type": "code",
   "execution_count": 34,
   "metadata": {},
   "outputs": [
    {
     "data": {
      "text/plain": [
       "<module 'matplotlib.pyplot' from 'c:\\\\users\\\\t-gamer\\\\documents\\\\git\\\\projetointeligenciaartificialsistemasugestao\\\\gpuvenv\\\\lib\\\\site-packages\\\\matplotlib\\\\pyplot.py'>"
      ]
     },
     "execution_count": 34,
     "metadata": {},
     "output_type": "execute_result"
    },
    {
     "data": {
      "image/png": "[encoded data removed]",
      "text/plain": [
       "<Figure size 432x288 with 1 Axes>"
      ]
     },
     "metadata": {
      "needs_background": "light"
     },
     "output_type": "display_data"
    }
   ],
   "source": [
    "time = datetime.now()\n",
    "timestampStr = time.strftime(\"%d %b %Y %H %M %S %f)\")\n",
    "plt.plot(history.history['acc'])\n",
    "plt.plot(history.history['val_acc'])\n",
    "plt.title('model accuracy')\n",
    "plt.ylabel('accuracy')\n",
    "plt.xlabel('epoch')\n",
    "plt.legend(['train', 'test'], loc='upper left')\n",
    "plt"
   ]
  },
  {
   "cell_type": "code",
   "execution_count": 35,
   "metadata": {},
   "outputs": [
    {
     "data": {
      "text/plain": [
       "<module 'matplotlib.pyplot' from 'c:\\\\users\\\\t-gamer\\\\documents\\\\git\\\\projetointeligenciaartificialsistemasugestao\\\\gpuvenv\\\\lib\\\\site-packages\\\\matplotlib\\\\pyplot.py'>"
      ]
     },
     "execution_count": 35,
     "metadata": {},
     "output_type": "execute_result"
    },
    {
     "data": {
      "image/png": "[encoded data removed]",
      "text/plain": [
       "<Figure size 432x288 with 1 Axes>"
      ]
     },
     "metadata": {
      "needs_background": "light"
     },
     "output_type": "display_data"
    }
   ],
   "source": [
    "plt.plot(history.history['loss'])\n",
    "plt.plot(history.history['val_loss'])\n",
    "plt.title('model loss')\n",
    "plt.ylabel('loss')\n",
    "plt.xlabel('epoch')\n",
    "plt.legend(['train', 'test'], loc='upper left')\n",
    "plt.savefig(\"loss\"+timestampStr+\".png\")\n",
    "plt"
   ]
  },
  {
   "cell_type": "markdown",
   "metadata": {},
   "source": [
    "- Teste"
   ]
  },
  {
   "cell_type": "code",
   "execution_count": 140,
   "metadata": {},
   "outputs": [],
   "source": [
    "testText = '''From the back seat of a stretch limousine heading to meet the first contestants for his new TV show “The Apprentice,” Donald J. Trump bragged that he was a billionaire who had overcome financial hardship.\n",
    "\n",
    "“I used my brain, I used my negotiating skills and I worked it all out,” he told viewers. “Now, my company is bigger than it ever was and stronger than it ever was.”\n",
    "\n",
    "It was all a hoax.\n",
    "\n",
    "Months after that inaugural episode in January 2004, Mr. Trump filed his individual tax return reporting $89.9 million in net losses from his core businesses for the prior year. The red ink spilled from everywhere, even as American television audiences saw him as a savvy business mogul with the Midas touch.\n",
    "\n",
    "Twelve years later, that image of the self-made, self-saved mogul, beamed into the national consciousness, would help fuel Mr. Trump’s improbable election to the White House.\n",
    "\n",
    "But while the story of “The Apprentice” is by now well known, the president’s tax returns reveal another grand twist that has never been truly told — how the popularity of that fictional alter ego rescued him, providing a financial lifeline to reinvent himself yet again. And then how, in an echo of the boom-and-bust cycle that has defined his business career, he led himself toward the financial shoals he must navigate today.\n",
    "\n",
    "Mr. Trump’s genius, it turned out, wasn’t running a company. It was making himself famous — Trump-scale famous — and monetizing that fame.\n",
    "\n",
    "By analyzing the tax records, The New York Times was able to place a value on Mr. Trump’s celebrity. While the returns show that he earned some $197 million directly from “The Apprentice” over 16 years — roughly in line with what he has claimed — they also reveal that an additional $230 million flowed from the fame associated with it.\"\n",
    "'''\n",
    "dataTestX = []\n",
    "seq_in = testText[0: seq_length].lower()\n",
    "\n",
    "dataTestX.append([char_to_int[char] for char in seq_in])"
   ]
  },
  {
   "cell_type": "code",
   "execution_count": 141,
   "metadata": {},
   "outputs": [
    {
     "name": "stdout",
     "output_type": "stream",
     "text": [
      "from the back seat of a stretch limousine heading to meet the first contestants for his new tv show “the apprentice,” donald j. trump bragged that he was a billionaire who had overcome financial hards\n"
     ]
    }
   ],
   "source": [
    "print(seq_in)"
   ]
  },
  {
   "cell_type": "code",
   "execution_count": 142,
   "metadata": {},
   "outputs": [
    {
     "name": "stdout",
     "output_type": "stream",
     "text": [
      " \n"
     ]
    }
   ],
   "source": [
    "testX = numpy.reshape(dataTestX, (1, seq_length, 1))\n",
    "\n",
    "prediction = model.predict(testX, verbose=0)\n",
    "index = numpy.argmax(prediction)\n",
    "print(int_to_char[index])"
   ]
  },
  {
   "cell_type": "code",
   "execution_count": 143,
   "metadata": {},
   "outputs": [],
   "source": [
    "resultado = \"\"\n",
    "for i in range(100):\n",
    "    testX = numpy.reshape(dataTestX, (1, seq_length, 1))\n",
    "\n",
    "    prediction = model.predict(testX, verbose=0)\n",
    "    index = numpy.argmax(prediction)\n",
    "    \n",
    "    resultado += int_to_char[index]\n",
    "    \n",
    "    dataTestX[0].pop(0) \n",
    "    dataTestX[0].append(index)\n",
    "\n"
   ]
  },
  {
   "cell_type": "code",
   "execution_count": 144,
   "metadata": {},
   "outputs": [
    {
     "data": {
      "text/plain": [
       "' the the the the the the the the the the the the t'"
      ]
     },
     "execution_count": 144,
     "metadata": {},
     "output_type": "execute_result"
    }
   ],
   "source": [
    "resultado\n",
    "                        "
   ]
  },
  {
   "cell_type": "code",
   "execution_count": 145,
   "metadata": {},
   "outputs": [
    {
     "name": "stdout",
     "output_type": "stream",
     "text": [
      "from the back seat of a stretch limousine heading to meet the first contestants for his new tv show “the apprentice,” donald j. trump bragged that he was a billionaire who had overcome financial hards the the the the the the the the the the the the t\n"
     ]
    }
   ],
   "source": [
    "print(seq_in + resultado)"
   ]
  },
  {
   "cell_type": "code",
   "execution_count": null,
   "metadata": {},
   "outputs": [],
   "source": []
  }
 ],
 "metadata": {
  "kernelspec": {
   "display_name": "Python 3",
   "language": "python",
   "name": "python3"
  },
  "language_info": {
   "codemirror_mode": {
    "name": "ipython",
    "version": 3
   },
   "file_extension": ".py",
   "mimetype": "text/x-python",
   "name": "python",
   "nbconvert_exporter": "python",
   "pygments_lexer": "ipython3",
   "version": "3.6.8"
  }
 },
 "nbformat": 4,
 "nbformat_minor": 2
}
