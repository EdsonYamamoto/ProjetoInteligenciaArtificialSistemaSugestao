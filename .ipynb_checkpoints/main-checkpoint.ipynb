{
 "cells": [
  {
   "cell_type": "code",
   "execution_count": 17,
   "metadata": {},
   "outputs": [],
   "source": [
    "# Larger LSTM Network to Generate Text for Alice in Wonderland\n",
    "import numpy\n",
    "from keras.models import Sequential\n",
    "from keras.layers import Dense\n",
    "from keras.layers import Dropout\n",
    "from keras.layers import LSTM\n",
    "from keras.callbacks import EarlyStopping, ModelCheckpoint\n",
    "from keras.utils import np_utils\n",
    "import os\n",
    "from datetime import datetime\n",
    "import matplotlib.pyplot as plt\n",
    "import sys\n",
    "import math        #import needed modules\n",
    "import pyaudio     #sudo apt-get install python-pyaudio\n",
    "import pandas as pd"
   ]
  },
  {
   "cell_type": "code",
   "execution_count": 88,
   "metadata": {},
   "outputs": [],
   "source": [
    "epochs = 50\n",
    "stepsPerEpochs=10\n",
    "filepath=\"weights-improvement-{epoch:02d}-{loss:.4f}-bigger.hdf5\""
   ]
  },
  {
   "cell_type": "code",
   "execution_count": 3,
   "metadata": {},
   "outputs": [],
   "source": [
    "\n",
    "# load ascii text and covert to lowercase\n",
    "filename = \"wonderland.txt\"\n",
    "raw_text = open(filename, 'r', encoding='utf-8').read()\n",
    "raw_text = raw_text.lower()"
   ]
  },
  {
   "cell_type": "code",
   "execution_count": 4,
   "metadata": {},
   "outputs": [
    {
     "name": "stdout",
     "output_type": "stream",
     "text": [
      "Total Characters:  164200\n",
      "Total Vocab:  64\n",
      "Total Patterns:  164100\n"
     ]
    }
   ],
   "source": [
    "# create mapping of unique chars to integers\n",
    "chars = sorted(list(set(raw_text)))\n",
    "char_to_int = dict((c, i) for i, c in enumerate(chars))\n",
    "int_to_char = dict((i, c) for i, c in enumerate(chars))\n",
    "# summarize the loaded data\n",
    "n_chars = len(raw_text)\n",
    "n_vocab = len(chars)\n",
    "print(\"Total Characters: \", n_chars)\n",
    "print(\"Total Vocab: \", n_vocab)\n",
    "# prepare the dataset of input to output pairs encoded as integers\n",
    "seq_length = 100\n",
    "dataX = []\n",
    "dataY = []\n",
    "for i in range(0, n_chars - seq_length, 1):\n",
    "    seq_in = raw_text[i:i + seq_length]\n",
    "    seq_out = raw_text[i + seq_length]\n",
    "    dataX.append([char_to_int[char] for char in seq_in])\n",
    "    dataY.append(char_to_int[seq_out])\n",
    "n_patterns = len(dataX)\n",
    "print(\"Total Patterns: \", n_patterns)"
   ]
  },
  {
   "cell_type": "code",
   "execution_count": 5,
   "metadata": {},
   "outputs": [],
   "source": [
    "# reshape X to be [samples, time steps, features]\n",
    "X = numpy.reshape(dataX, (n_patterns, seq_length, 1))\n",
    "# normalize\n",
    "X = X / float(n_vocab)\n",
    "# one hot encode the output variable\n",
    "y = np_utils.to_categorical(dataY)\n",
    "# define the checkpoint"
   ]
  },
  {
   "cell_type": "code",
   "execution_count": 96,
   "metadata": {},
   "outputs": [],
   "source": [
    "# define the LSTM model\n",
    "model = Sequential()\n",
    "model.add(LSTM(256, input_shape=(X.shape[1], X.shape[2]), return_sequences=True))\n",
    "model.add(Dropout(0.2))\n",
    "model.add(LSTM(256, return_sequences=True))\n",
    "model.add(Dropout(0.2))\n",
    "model.add(LSTM(256))\n",
    "model.add(Dropout(0.2))\n",
    "model.add(Dense(y.shape[1], activation='softmax'))\n",
    "model.compile(loss='categorical_crossentropy', optimizer='adam', metrics = ['accuracy'])\n"
   ]
  },
  {
   "cell_type": "code",
   "execution_count": 97,
   "metadata": {},
   "outputs": [],
   "source": [
    "\n",
    "if os.path.isfile(filepath):\n",
    "    model.load_weights(filepath)\n",
    "\n",
    "mc = ModelCheckpoint(filepath, monitor='loss', verbose=1, save_best_only=True, mode='min')\n",
    "es = EarlyStopping(monitor='loss', mode='min', verbose=1, patience=100, min_delta=0.000001)\n",
    "callbacks=[es, mc]"
   ]
  },
  {
   "cell_type": "code",
   "execution_count": 98,
   "metadata": {
    "scrolled": false
   },
   "outputs": [
    {
     "name": "stdout",
     "output_type": "stream",
     "text": [
      "Epoch 1/50\n",
      "10/10 [==============================] - ETA: 0s - loss: 3.5849 - accuracy: 0.1391\n",
      "Epoch 00001: accuracy improved from inf to 0.13906, saving model to weights-improvement-01-3.5849-bigger.hdf5\n",
      "10/10 [==============================] - 9s 894ms/step - loss: 3.5849 - accuracy: 0.1391\n",
      "Epoch 2/50\n",
      "10/10 [==============================] - ETA: 0s - loss: 3.1923 - accuracy: 0.1719\n",
      "Epoch 00002: accuracy did not improve from 0.13906\n",
      "10/10 [==============================] - 9s 902ms/step - loss: 3.1923 - accuracy: 0.1719\n",
      "Epoch 3/50\n",
      "10/10 [==============================] - ETA: 0s - loss: 3.1967 - accuracy: 0.1406\n",
      "Epoch 00003: accuracy did not improve from 0.13906\n",
      "10/10 [==============================] - 9s 901ms/step - loss: 3.1967 - accuracy: 0.1406\n",
      "Epoch 4/50\n",
      "10/10 [==============================] - ETA: 0s - loss: 3.1606 - accuracy: 0.1469\n",
      "Epoch 00004: accuracy did not improve from 0.13906\n",
      "10/10 [==============================] - 9s 862ms/step - loss: 3.1606 - accuracy: 0.1469\n",
      "Epoch 5/50\n",
      "10/10 [==============================] - ETA: 0s - loss: 3.1451 - accuracy: 0.1469\n",
      "Epoch 00005: accuracy did not improve from 0.13906\n",
      "10/10 [==============================] - 9s 864ms/step - loss: 3.1451 - accuracy: 0.1469\n",
      "Epoch 6/50\n",
      "10/10 [==============================] - ETA: 0s - loss: 3.1714 - accuracy: 0.1500\n",
      "Epoch 00006: accuracy did not improve from 0.13906\n",
      "10/10 [==============================] - 9s 888ms/step - loss: 3.1714 - accuracy: 0.1500\n",
      "Epoch 7/50\n",
      "10/10 [==============================] - ETA: 0s - loss: 3.1487 - accuracy: 0.1484\n",
      "Epoch 00007: accuracy did not improve from 0.13906\n",
      "10/10 [==============================] - 9s 866ms/step - loss: 3.1487 - accuracy: 0.1484\n",
      "Epoch 8/50\n",
      "10/10 [==============================] - ETA: 0s - loss: 3.0434 - accuracy: 0.1703\n",
      "Epoch 00008: accuracy did not improve from 0.13906\n",
      "10/10 [==============================] - 9s 887ms/step - loss: 3.0434 - accuracy: 0.1703\n",
      "Epoch 9/50\n",
      "10/10 [==============================] - ETA: 0s - loss: 3.0932 - accuracy: 0.1797\n",
      "Epoch 00009: accuracy did not improve from 0.13906\n",
      "10/10 [==============================] - 9s 873ms/step - loss: 3.0932 - accuracy: 0.1797\n",
      "Epoch 10/50\n",
      "10/10 [==============================] - ETA: 0s - loss: 3.1212 - accuracy: 0.1781\n",
      "Epoch 00010: accuracy did not improve from 0.13906\n",
      "10/10 [==============================] - 9s 867ms/step - loss: 3.1212 - accuracy: 0.1781\n",
      "Epoch 11/50\n",
      "10/10 [==============================] - ETA: 0s - loss: 3.1360 - accuracy: 0.1437\n",
      "Epoch 00011: accuracy did not improve from 0.13906\n",
      "10/10 [==============================] - 9s 859ms/step - loss: 3.1360 - accuracy: 0.1437\n",
      "Epoch 12/50\n",
      "10/10 [==============================] - ETA: 0s - loss: 3.1248 - accuracy: 0.1578\n",
      "Epoch 00012: accuracy did not improve from 0.13906\n",
      "10/10 [==============================] - 9s 881ms/step - loss: 3.1248 - accuracy: 0.1578\n",
      "Epoch 13/50\n",
      "10/10 [==============================] - ETA: 0s - loss: 3.0804 - accuracy: 0.1703\n",
      "Epoch 00013: accuracy did not improve from 0.13906\n",
      "10/10 [==============================] - 9s 892ms/step - loss: 3.0804 - accuracy: 0.1703\n",
      "Epoch 14/50\n",
      "10/10 [==============================] - ETA: 0s - loss: 3.0518 - accuracy: 0.1750\n",
      "Epoch 00014: accuracy did not improve from 0.13906\n",
      "10/10 [==============================] - 9s 885ms/step - loss: 3.0518 - accuracy: 0.1750\n",
      "Epoch 15/50\n",
      "10/10 [==============================] - ETA: 0s - loss: 3.2006 - accuracy: 0.1156\n",
      "Epoch 00015: accuracy improved from 0.13906 to 0.11563, saving model to weights-improvement-15-3.2006-bigger.hdf5\n",
      "10/10 [==============================] - 9s 893ms/step - loss: 3.2006 - accuracy: 0.1156\n",
      "Epoch 16/50\n",
      "10/10 [==============================] - ETA: 0s - loss: 3.1118 - accuracy: 0.1562\n",
      "Epoch 00016: accuracy did not improve from 0.11563\n",
      "10/10 [==============================] - 9s 883ms/step - loss: 3.1118 - accuracy: 0.1562\n",
      "Epoch 17/50\n",
      "10/10 [==============================] - ETA: 0s - loss: 3.0906 - accuracy: 0.1625\n",
      "Epoch 00017: accuracy did not improve from 0.11563\n",
      "10/10 [==============================] - 9s 887ms/step - loss: 3.0906 - accuracy: 0.1625\n",
      "Epoch 18/50\n",
      "10/10 [==============================] - ETA: 0s - loss: 3.1202 - accuracy: 0.1547\n",
      "Epoch 00018: accuracy did not improve from 0.11563\n",
      "10/10 [==============================] - 9s 892ms/step - loss: 3.1202 - accuracy: 0.1547\n",
      "Epoch 19/50\n",
      "10/10 [==============================] - ETA: 0s - loss: 3.0710 - accuracy: 0.1703\n",
      "Epoch 00019: accuracy did not improve from 0.11563\n",
      "10/10 [==============================] - 9s 890ms/step - loss: 3.0710 - accuracy: 0.1703\n",
      "Epoch 20/50\n",
      "10/10 [==============================] - ETA: 0s - loss: 3.1204 - accuracy: 0.1625\n",
      "Epoch 00020: accuracy did not improve from 0.11563\n",
      "10/10 [==============================] - 9s 900ms/step - loss: 3.1204 - accuracy: 0.1625\n",
      "Epoch 21/50\n",
      "10/10 [==============================] - ETA: 0s - loss: 3.1418 - accuracy: 0.1734\n",
      "Epoch 00021: accuracy did not improve from 0.11563\n",
      "10/10 [==============================] - 9s 901ms/step - loss: 3.1418 - accuracy: 0.1734\n",
      "Epoch 22/50\n",
      "10/10 [==============================] - ETA: 0s - loss: 3.0966 - accuracy: 0.1641\n",
      "Epoch 00022: accuracy did not improve from 0.11563\n",
      "10/10 [==============================] - 9s 927ms/step - loss: 3.0966 - accuracy: 0.1641\n",
      "Epoch 23/50\n",
      "10/10 [==============================] - ETA: 0s - loss: 3.0739 - accuracy: 0.1875\n",
      "Epoch 00023: accuracy did not improve from 0.11563\n",
      "10/10 [==============================] - 9s 921ms/step - loss: 3.0739 - accuracy: 0.1875\n",
      "Epoch 24/50\n",
      "10/10 [==============================] - ETA: 0s - loss: 3.1237 - accuracy: 0.1672\n",
      "Epoch 00024: accuracy did not improve from 0.11563\n",
      "10/10 [==============================] - 9s 938ms/step - loss: 3.1237 - accuracy: 0.1672\n",
      "Epoch 25/50\n",
      "10/10 [==============================] - ETA: 0s - loss: 3.1627 - accuracy: 0.1578\n",
      "Epoch 00025: accuracy did not improve from 0.11563\n",
      "10/10 [==============================] - 9s 921ms/step - loss: 3.1627 - accuracy: 0.1578\n",
      "Epoch 26/50\n",
      " 3/10 [========>.....................] - ETA: 4s - loss: 3.0665 - accuracy: 0.2344"
     ]
    },
    {
     "ename": "KeyboardInterrupt",
     "evalue": "",
     "output_type": "error",
     "traceback": [
      "\u001b[1;31m---------------------------------------------------------------------------\u001b[0m",
      "\u001b[1;31mKeyboardInterrupt\u001b[0m                         Traceback (most recent call last)",
      "\u001b[1;32m<ipython-input-98-129929ebf188>\u001b[0m in \u001b[0;36m<module>\u001b[1;34m\u001b[0m\n\u001b[0;32m      1\u001b[0m \u001b[1;31m# fit the model\u001b[0m\u001b[1;33m\u001b[0m\u001b[1;33m\u001b[0m\u001b[1;33m\u001b[0m\u001b[0m\n\u001b[1;32m----> 2\u001b[1;33m \u001b[0mhistory\u001b[0m \u001b[1;33m=\u001b[0m \u001b[0mmodel\u001b[0m\u001b[1;33m.\u001b[0m\u001b[0mfit\u001b[0m\u001b[1;33m(\u001b[0m\u001b[0mX\u001b[0m\u001b[1;33m,\u001b[0m \u001b[0my\u001b[0m\u001b[1;33m,\u001b[0m \u001b[0mepochs\u001b[0m\u001b[1;33m=\u001b[0m\u001b[0mepochs\u001b[0m\u001b[1;33m,\u001b[0m \u001b[0msteps_per_epoch\u001b[0m\u001b[1;33m=\u001b[0m\u001b[0mstepsPerEpochs\u001b[0m\u001b[1;33m,\u001b[0m \u001b[0mbatch_size\u001b[0m\u001b[1;33m=\u001b[0m\u001b[1;36m64\u001b[0m\u001b[1;33m,\u001b[0m \u001b[0mcallbacks\u001b[0m\u001b[1;33m=\u001b[0m\u001b[0mcallbacks\u001b[0m\u001b[1;33m)\u001b[0m\u001b[1;33m\u001b[0m\u001b[1;33m\u001b[0m\u001b[0m\n\u001b[0m\u001b[0;32m      3\u001b[0m \u001b[0mprint\u001b[0m\u001b[1;33m(\u001b[0m\u001b[0mhistory\u001b[0m\u001b[1;33m)\u001b[0m\u001b[1;33m\u001b[0m\u001b[1;33m\u001b[0m\u001b[0m\n",
      "\u001b[1;32mc:\\users\\t-gamer\\documents\\git\\projetointeligenciaartificialsistemasugestao\\env\\lib\\site-packages\\tensorflow\\python\\keras\\engine\\training.py\u001b[0m in \u001b[0;36m_method_wrapper\u001b[1;34m(self, *args, **kwargs)\u001b[0m\n\u001b[0;32m    106\u001b[0m   \u001b[1;32mdef\u001b[0m \u001b[0m_method_wrapper\u001b[0m\u001b[1;33m(\u001b[0m\u001b[0mself\u001b[0m\u001b[1;33m,\u001b[0m \u001b[1;33m*\u001b[0m\u001b[0margs\u001b[0m\u001b[1;33m,\u001b[0m \u001b[1;33m**\u001b[0m\u001b[0mkwargs\u001b[0m\u001b[1;33m)\u001b[0m\u001b[1;33m:\u001b[0m\u001b[1;33m\u001b[0m\u001b[1;33m\u001b[0m\u001b[0m\n\u001b[0;32m    107\u001b[0m     \u001b[1;32mif\u001b[0m \u001b[1;32mnot\u001b[0m \u001b[0mself\u001b[0m\u001b[1;33m.\u001b[0m\u001b[0m_in_multi_worker_mode\u001b[0m\u001b[1;33m(\u001b[0m\u001b[1;33m)\u001b[0m\u001b[1;33m:\u001b[0m  \u001b[1;31m# pylint: disable=protected-access\u001b[0m\u001b[1;33m\u001b[0m\u001b[1;33m\u001b[0m\u001b[0m\n\u001b[1;32m--> 108\u001b[1;33m       \u001b[1;32mreturn\u001b[0m \u001b[0mmethod\u001b[0m\u001b[1;33m(\u001b[0m\u001b[0mself\u001b[0m\u001b[1;33m,\u001b[0m \u001b[1;33m*\u001b[0m\u001b[0margs\u001b[0m\u001b[1;33m,\u001b[0m \u001b[1;33m**\u001b[0m\u001b[0mkwargs\u001b[0m\u001b[1;33m)\u001b[0m\u001b[1;33m\u001b[0m\u001b[1;33m\u001b[0m\u001b[0m\n\u001b[0m\u001b[0;32m    109\u001b[0m \u001b[1;33m\u001b[0m\u001b[0m\n\u001b[0;32m    110\u001b[0m     \u001b[1;31m# Running inside `run_distribute_coordinator` already.\u001b[0m\u001b[1;33m\u001b[0m\u001b[1;33m\u001b[0m\u001b[1;33m\u001b[0m\u001b[0m\n",
      "\u001b[1;32mc:\\users\\t-gamer\\documents\\git\\projetointeligenciaartificialsistemasugestao\\env\\lib\\site-packages\\tensorflow\\python\\keras\\engine\\training.py\u001b[0m in \u001b[0;36mfit\u001b[1;34m(self, x, y, batch_size, epochs, verbose, callbacks, validation_split, validation_data, shuffle, class_weight, sample_weight, initial_epoch, steps_per_epoch, validation_steps, validation_batch_size, validation_freq, max_queue_size, workers, use_multiprocessing)\u001b[0m\n\u001b[0;32m   1096\u001b[0m                 batch_size=batch_size):\n\u001b[0;32m   1097\u001b[0m               \u001b[0mcallbacks\u001b[0m\u001b[1;33m.\u001b[0m\u001b[0mon_train_batch_begin\u001b[0m\u001b[1;33m(\u001b[0m\u001b[0mstep\u001b[0m\u001b[1;33m)\u001b[0m\u001b[1;33m\u001b[0m\u001b[1;33m\u001b[0m\u001b[0m\n\u001b[1;32m-> 1098\u001b[1;33m               \u001b[0mtmp_logs\u001b[0m \u001b[1;33m=\u001b[0m \u001b[0mtrain_function\u001b[0m\u001b[1;33m(\u001b[0m\u001b[0miterator\u001b[0m\u001b[1;33m)\u001b[0m\u001b[1;33m\u001b[0m\u001b[1;33m\u001b[0m\u001b[0m\n\u001b[0m\u001b[0;32m   1099\u001b[0m               \u001b[1;32mif\u001b[0m \u001b[0mdata_handler\u001b[0m\u001b[1;33m.\u001b[0m\u001b[0mshould_sync\u001b[0m\u001b[1;33m:\u001b[0m\u001b[1;33m\u001b[0m\u001b[1;33m\u001b[0m\u001b[0m\n\u001b[0;32m   1100\u001b[0m                 \u001b[0mcontext\u001b[0m\u001b[1;33m.\u001b[0m\u001b[0masync_wait\u001b[0m\u001b[1;33m(\u001b[0m\u001b[1;33m)\u001b[0m\u001b[1;33m\u001b[0m\u001b[1;33m\u001b[0m\u001b[0m\n",
      "\u001b[1;32mc:\\users\\t-gamer\\documents\\git\\projetointeligenciaartificialsistemasugestao\\env\\lib\\site-packages\\tensorflow\\python\\eager\\def_function.py\u001b[0m in \u001b[0;36m__call__\u001b[1;34m(self, *args, **kwds)\u001b[0m\n\u001b[0;32m    778\u001b[0m       \u001b[1;32melse\u001b[0m\u001b[1;33m:\u001b[0m\u001b[1;33m\u001b[0m\u001b[1;33m\u001b[0m\u001b[0m\n\u001b[0;32m    779\u001b[0m         \u001b[0mcompiler\u001b[0m \u001b[1;33m=\u001b[0m \u001b[1;34m\"nonXla\"\u001b[0m\u001b[1;33m\u001b[0m\u001b[1;33m\u001b[0m\u001b[0m\n\u001b[1;32m--> 780\u001b[1;33m         \u001b[0mresult\u001b[0m \u001b[1;33m=\u001b[0m \u001b[0mself\u001b[0m\u001b[1;33m.\u001b[0m\u001b[0m_call\u001b[0m\u001b[1;33m(\u001b[0m\u001b[1;33m*\u001b[0m\u001b[0margs\u001b[0m\u001b[1;33m,\u001b[0m \u001b[1;33m**\u001b[0m\u001b[0mkwds\u001b[0m\u001b[1;33m)\u001b[0m\u001b[1;33m\u001b[0m\u001b[1;33m\u001b[0m\u001b[0m\n\u001b[0m\u001b[0;32m    781\u001b[0m \u001b[1;33m\u001b[0m\u001b[0m\n\u001b[0;32m    782\u001b[0m       \u001b[0mnew_tracing_count\u001b[0m \u001b[1;33m=\u001b[0m \u001b[0mself\u001b[0m\u001b[1;33m.\u001b[0m\u001b[0m_get_tracing_count\u001b[0m\u001b[1;33m(\u001b[0m\u001b[1;33m)\u001b[0m\u001b[1;33m\u001b[0m\u001b[1;33m\u001b[0m\u001b[0m\n",
      "\u001b[1;32mc:\\users\\t-gamer\\documents\\git\\projetointeligenciaartificialsistemasugestao\\env\\lib\\site-packages\\tensorflow\\python\\eager\\def_function.py\u001b[0m in \u001b[0;36m_call\u001b[1;34m(self, *args, **kwds)\u001b[0m\n\u001b[0;32m    805\u001b[0m       \u001b[1;31m# In this case we have created variables on the first call, so we run the\u001b[0m\u001b[1;33m\u001b[0m\u001b[1;33m\u001b[0m\u001b[1;33m\u001b[0m\u001b[0m\n\u001b[0;32m    806\u001b[0m       \u001b[1;31m# defunned version which is guaranteed to never create variables.\u001b[0m\u001b[1;33m\u001b[0m\u001b[1;33m\u001b[0m\u001b[1;33m\u001b[0m\u001b[0m\n\u001b[1;32m--> 807\u001b[1;33m       \u001b[1;32mreturn\u001b[0m \u001b[0mself\u001b[0m\u001b[1;33m.\u001b[0m\u001b[0m_stateless_fn\u001b[0m\u001b[1;33m(\u001b[0m\u001b[1;33m*\u001b[0m\u001b[0margs\u001b[0m\u001b[1;33m,\u001b[0m \u001b[1;33m**\u001b[0m\u001b[0mkwds\u001b[0m\u001b[1;33m)\u001b[0m  \u001b[1;31m# pylint: disable=not-callable\u001b[0m\u001b[1;33m\u001b[0m\u001b[1;33m\u001b[0m\u001b[0m\n\u001b[0m\u001b[0;32m    808\u001b[0m     \u001b[1;32melif\u001b[0m \u001b[0mself\u001b[0m\u001b[1;33m.\u001b[0m\u001b[0m_stateful_fn\u001b[0m \u001b[1;32mis\u001b[0m \u001b[1;32mnot\u001b[0m \u001b[1;32mNone\u001b[0m\u001b[1;33m:\u001b[0m\u001b[1;33m\u001b[0m\u001b[1;33m\u001b[0m\u001b[0m\n\u001b[0;32m    809\u001b[0m       \u001b[1;31m# Release the lock early so that multiple threads can perform the call\u001b[0m\u001b[1;33m\u001b[0m\u001b[1;33m\u001b[0m\u001b[1;33m\u001b[0m\u001b[0m\n",
      "\u001b[1;32mc:\\users\\t-gamer\\documents\\git\\projetointeligenciaartificialsistemasugestao\\env\\lib\\site-packages\\tensorflow\\python\\eager\\function.py\u001b[0m in \u001b[0;36m__call__\u001b[1;34m(self, *args, **kwargs)\u001b[0m\n\u001b[0;32m   2827\u001b[0m     \u001b[1;32mwith\u001b[0m \u001b[0mself\u001b[0m\u001b[1;33m.\u001b[0m\u001b[0m_lock\u001b[0m\u001b[1;33m:\u001b[0m\u001b[1;33m\u001b[0m\u001b[1;33m\u001b[0m\u001b[0m\n\u001b[0;32m   2828\u001b[0m       \u001b[0mgraph_function\u001b[0m\u001b[1;33m,\u001b[0m \u001b[0margs\u001b[0m\u001b[1;33m,\u001b[0m \u001b[0mkwargs\u001b[0m \u001b[1;33m=\u001b[0m \u001b[0mself\u001b[0m\u001b[1;33m.\u001b[0m\u001b[0m_maybe_define_function\u001b[0m\u001b[1;33m(\u001b[0m\u001b[0margs\u001b[0m\u001b[1;33m,\u001b[0m \u001b[0mkwargs\u001b[0m\u001b[1;33m)\u001b[0m\u001b[1;33m\u001b[0m\u001b[1;33m\u001b[0m\u001b[0m\n\u001b[1;32m-> 2829\u001b[1;33m     \u001b[1;32mreturn\u001b[0m \u001b[0mgraph_function\u001b[0m\u001b[1;33m.\u001b[0m\u001b[0m_filtered_call\u001b[0m\u001b[1;33m(\u001b[0m\u001b[0margs\u001b[0m\u001b[1;33m,\u001b[0m \u001b[0mkwargs\u001b[0m\u001b[1;33m)\u001b[0m  \u001b[1;31m# pylint: disable=protected-access\u001b[0m\u001b[1;33m\u001b[0m\u001b[1;33m\u001b[0m\u001b[0m\n\u001b[0m\u001b[0;32m   2830\u001b[0m \u001b[1;33m\u001b[0m\u001b[0m\n\u001b[0;32m   2831\u001b[0m   \u001b[1;33m@\u001b[0m\u001b[0mproperty\u001b[0m\u001b[1;33m\u001b[0m\u001b[1;33m\u001b[0m\u001b[0m\n",
      "\u001b[1;32mc:\\users\\t-gamer\\documents\\git\\projetointeligenciaartificialsistemasugestao\\env\\lib\\site-packages\\tensorflow\\python\\eager\\function.py\u001b[0m in \u001b[0;36m_filtered_call\u001b[1;34m(self, args, kwargs, cancellation_manager)\u001b[0m\n\u001b[0;32m   1846\u001b[0m                            resource_variable_ops.BaseResourceVariable))],\n\u001b[0;32m   1847\u001b[0m         \u001b[0mcaptured_inputs\u001b[0m\u001b[1;33m=\u001b[0m\u001b[0mself\u001b[0m\u001b[1;33m.\u001b[0m\u001b[0mcaptured_inputs\u001b[0m\u001b[1;33m,\u001b[0m\u001b[1;33m\u001b[0m\u001b[1;33m\u001b[0m\u001b[0m\n\u001b[1;32m-> 1848\u001b[1;33m         cancellation_manager=cancellation_manager)\n\u001b[0m\u001b[0;32m   1849\u001b[0m \u001b[1;33m\u001b[0m\u001b[0m\n\u001b[0;32m   1850\u001b[0m   \u001b[1;32mdef\u001b[0m \u001b[0m_call_flat\u001b[0m\u001b[1;33m(\u001b[0m\u001b[0mself\u001b[0m\u001b[1;33m,\u001b[0m \u001b[0margs\u001b[0m\u001b[1;33m,\u001b[0m \u001b[0mcaptured_inputs\u001b[0m\u001b[1;33m,\u001b[0m \u001b[0mcancellation_manager\u001b[0m\u001b[1;33m=\u001b[0m\u001b[1;32mNone\u001b[0m\u001b[1;33m)\u001b[0m\u001b[1;33m:\u001b[0m\u001b[1;33m\u001b[0m\u001b[1;33m\u001b[0m\u001b[0m\n",
      "\u001b[1;32mc:\\users\\t-gamer\\documents\\git\\projetointeligenciaartificialsistemasugestao\\env\\lib\\site-packages\\tensorflow\\python\\eager\\function.py\u001b[0m in \u001b[0;36m_call_flat\u001b[1;34m(self, args, captured_inputs, cancellation_manager)\u001b[0m\n\u001b[0;32m   1922\u001b[0m       \u001b[1;31m# No tape is watching; skip to running the function.\u001b[0m\u001b[1;33m\u001b[0m\u001b[1;33m\u001b[0m\u001b[1;33m\u001b[0m\u001b[0m\n\u001b[0;32m   1923\u001b[0m       return self._build_call_outputs(self._inference_function.call(\n\u001b[1;32m-> 1924\u001b[1;33m           ctx, args, cancellation_manager=cancellation_manager))\n\u001b[0m\u001b[0;32m   1925\u001b[0m     forward_backward = self._select_forward_and_backward_functions(\n\u001b[0;32m   1926\u001b[0m         \u001b[0margs\u001b[0m\u001b[1;33m,\u001b[0m\u001b[1;33m\u001b[0m\u001b[1;33m\u001b[0m\u001b[0m\n",
      "\u001b[1;32mc:\\users\\t-gamer\\documents\\git\\projetointeligenciaartificialsistemasugestao\\env\\lib\\site-packages\\tensorflow\\python\\eager\\function.py\u001b[0m in \u001b[0;36mcall\u001b[1;34m(self, ctx, args, cancellation_manager)\u001b[0m\n\u001b[0;32m    548\u001b[0m               \u001b[0minputs\u001b[0m\u001b[1;33m=\u001b[0m\u001b[0margs\u001b[0m\u001b[1;33m,\u001b[0m\u001b[1;33m\u001b[0m\u001b[1;33m\u001b[0m\u001b[0m\n\u001b[0;32m    549\u001b[0m               \u001b[0mattrs\u001b[0m\u001b[1;33m=\u001b[0m\u001b[0mattrs\u001b[0m\u001b[1;33m,\u001b[0m\u001b[1;33m\u001b[0m\u001b[1;33m\u001b[0m\u001b[0m\n\u001b[1;32m--> 550\u001b[1;33m               ctx=ctx)\n\u001b[0m\u001b[0;32m    551\u001b[0m         \u001b[1;32melse\u001b[0m\u001b[1;33m:\u001b[0m\u001b[1;33m\u001b[0m\u001b[1;33m\u001b[0m\u001b[0m\n\u001b[0;32m    552\u001b[0m           outputs = execute.execute_with_cancellation(\n",
      "\u001b[1;32mc:\\users\\t-gamer\\documents\\git\\projetointeligenciaartificialsistemasugestao\\env\\lib\\site-packages\\tensorflow\\python\\eager\\execute.py\u001b[0m in \u001b[0;36mquick_execute\u001b[1;34m(op_name, num_outputs, inputs, attrs, ctx, name)\u001b[0m\n\u001b[0;32m     58\u001b[0m     \u001b[0mctx\u001b[0m\u001b[1;33m.\u001b[0m\u001b[0mensure_initialized\u001b[0m\u001b[1;33m(\u001b[0m\u001b[1;33m)\u001b[0m\u001b[1;33m\u001b[0m\u001b[1;33m\u001b[0m\u001b[0m\n\u001b[0;32m     59\u001b[0m     tensors = pywrap_tfe.TFE_Py_Execute(ctx._handle, device_name, op_name,\n\u001b[1;32m---> 60\u001b[1;33m                                         inputs, attrs, num_outputs)\n\u001b[0m\u001b[0;32m     61\u001b[0m   \u001b[1;32mexcept\u001b[0m \u001b[0mcore\u001b[0m\u001b[1;33m.\u001b[0m\u001b[0m_NotOkStatusException\u001b[0m \u001b[1;32mas\u001b[0m \u001b[0me\u001b[0m\u001b[1;33m:\u001b[0m\u001b[1;33m\u001b[0m\u001b[1;33m\u001b[0m\u001b[0m\n\u001b[0;32m     62\u001b[0m     \u001b[1;32mif\u001b[0m \u001b[0mname\u001b[0m \u001b[1;32mis\u001b[0m \u001b[1;32mnot\u001b[0m \u001b[1;32mNone\u001b[0m\u001b[1;33m:\u001b[0m\u001b[1;33m\u001b[0m\u001b[1;33m\u001b[0m\u001b[0m\n",
      "\u001b[1;31mKeyboardInterrupt\u001b[0m: "
     ]
    }
   ],
   "source": [
    "\n",
    "# fit the model\n",
    "history = model.fit(X, y, epochs=epochs, steps_per_epoch=stepsPerEpochs, batch_size=64, callbacks=callbacks)\n",
    "print(history)"
   ]
  },
  {
   "cell_type": "code",
   "execution_count": 9,
   "metadata": {},
   "outputs": [
    {
     "data": {
      "text/plain": [
       "{'loss': [4.117135047912598,\n",
       "  3.9187393188476562,\n",
       "  3.4975266456604004,\n",
       "  3.2837557792663574,\n",
       "  3.4891724586486816,\n",
       "  3.26954984664917,\n",
       "  3.1706724166870117,\n",
       "  3.27262282371521,\n",
       "  3.1138594150543213,\n",
       "  3.347722053527832,\n",
       "  3.2171430587768555,\n",
       "  3.1497151851654053,\n",
       "  3.2265210151672363,\n",
       "  3.1843934059143066,\n",
       "  3.2027668952941895,\n",
       "  2.8934686183929443,\n",
       "  3.1528449058532715,\n",
       "  3.303898572921753,\n",
       "  3.073211193084717,\n",
       "  3.1858415603637695,\n",
       "  3.368297815322876,\n",
       "  3.124680995941162,\n",
       "  3.121399402618408,\n",
       "  3.184054374694824,\n",
       "  3.2666120529174805,\n",
       "  3.1472129821777344,\n",
       "  3.1150474548339844,\n",
       "  3.1952195167541504,\n",
       "  3.1278839111328125,\n",
       "  3.1908483505249023,\n",
       "  3.0131444931030273,\n",
       "  3.1499576568603516,\n",
       "  3.1697189807891846,\n",
       "  3.109543800354004,\n",
       "  3.0840225219726562,\n",
       "  3.007689952850342,\n",
       "  2.988460063934326,\n",
       "  3.210446834564209,\n",
       "  3.054349184036255,\n",
       "  3.0753097534179688,\n",
       "  3.0228114128112793,\n",
       "  3.262930154800415,\n",
       "  3.1420955657958984,\n",
       "  3.028447151184082,\n",
       "  3.1211304664611816,\n",
       "  2.9831600189208984,\n",
       "  3.081942558288574,\n",
       "  3.202606678009033,\n",
       "  2.991525888442993,\n",
       "  3.081634044647217],\n",
       " 'accuracy': [0.0546875,\n",
       "  0.125,\n",
       "  0.1953125,\n",
       "  0.1328125,\n",
       "  0.078125,\n",
       "  0.0703125,\n",
       "  0.0859375,\n",
       "  0.1953125,\n",
       "  0.1484375,\n",
       "  0.09375,\n",
       "  0.171875,\n",
       "  0.203125,\n",
       "  0.125,\n",
       "  0.15625,\n",
       "  0.1796875,\n",
       "  0.265625,\n",
       "  0.140625,\n",
       "  0.1328125,\n",
       "  0.15625,\n",
       "  0.1484375,\n",
       "  0.09375,\n",
       "  0.1484375,\n",
       "  0.1484375,\n",
       "  0.1796875,\n",
       "  0.140625,\n",
       "  0.1484375,\n",
       "  0.15625,\n",
       "  0.140625,\n",
       "  0.171875,\n",
       "  0.1640625,\n",
       "  0.2109375,\n",
       "  0.1640625,\n",
       "  0.171875,\n",
       "  0.1953125,\n",
       "  0.1484375,\n",
       "  0.21875,\n",
       "  0.1796875,\n",
       "  0.1640625,\n",
       "  0.1484375,\n",
       "  0.2109375,\n",
       "  0.1875,\n",
       "  0.109375,\n",
       "  0.1796875,\n",
       "  0.1875,\n",
       "  0.171875,\n",
       "  0.234375,\n",
       "  0.1796875,\n",
       "  0.171875,\n",
       "  0.1875,\n",
       "  0.203125]}"
      ]
     },
     "execution_count": 9,
     "metadata": {},
     "output_type": "execute_result"
    }
   ],
   "source": [
    "history.history"
   ]
  },
  {
   "cell_type": "code",
   "execution_count": 10,
   "metadata": {},
   "outputs": [
    {
     "data": {
      "text/plain": [
       "<module 'matplotlib.pyplot' from 'c:\\\\users\\\\t-gamer\\\\documents\\\\git\\\\projetointeligenciaartificialsistemasugestao\\\\env\\\\lib\\\\site-packages\\\\matplotlib\\\\pyplot.py'>"
      ]
     },
     "execution_count": 10,
     "metadata": {},
     "output_type": "execute_result"
    },
    {
     "data": {
      "image/png": "[encoded data removed]",
      "text/plain": [
       "<Figure size 432x288 with 1 Axes>"
      ]
     },
     "metadata": {
      "needs_background": "light"
     },
     "output_type": "display_data"
    }
   ],
   "source": [
    "time = datetime.now()\n",
    "timestampStr = time.strftime(\"%d %b %Y %H %M %S %f)\")\n",
    "plt.plot(history.history['accuracy'])\n",
    "#plt.plot(history.history['val_accuracy'])\n",
    "plt.title('model accuracy')\n",
    "plt.ylabel('accuracy')\n",
    "plt.xlabel('epoch')\n",
    "plt.legend(['train', 'test'], loc='upper left')\n",
    "plt"
   ]
  },
  {
   "cell_type": "code",
   "execution_count": 11,
   "metadata": {},
   "outputs": [
    {
     "data": {
      "text/plain": [
       "<module 'matplotlib.pyplot' from 'c:\\\\users\\\\t-gamer\\\\documents\\\\git\\\\projetointeligenciaartificialsistemasugestao\\\\env\\\\lib\\\\site-packages\\\\matplotlib\\\\pyplot.py'>"
      ]
     },
     "execution_count": 11,
     "metadata": {},
     "output_type": "execute_result"
    },
    {
     "data": {
      "image/png": "[encoded data removed]",
      "text/plain": [
       "<Figure size 432x288 with 1 Axes>"
      ]
     },
     "metadata": {
      "needs_background": "light"
     },
     "output_type": "display_data"
    }
   ],
   "source": [
    "plt.plot(history.history['loss'])\n",
    "#plt.plot(history.history['val_loss'])\n",
    "plt.title('model loss')\n",
    "plt.ylabel('loss')\n",
    "plt.xlabel('epoch')\n",
    "plt.legend(['train', 'test'], loc='upper left')\n",
    "plt.savefig(\"loss\"+timestampStr+\".png\")\n",
    "plt"
   ]
  },
  {
   "cell_type": "code",
   "execution_count": 69,
   "metadata": {},
   "outputs": [
    {
     "name": "stdout",
     "output_type": "stream",
     "text": [
      "Seed:\n",
      "\"  after\n",
      "all. i needn’t be afraid of them!”\n",
      "\n",
      "“and who are _these?_” said the queen, pointing to the th \"\n",
      " \n",
      "Predict\n",
      " after\n",
      "all. i needn’t be afraid of them!”\n",
      "\n",
      "“and who are _these?_” said the queen, pointing to the th\n",
      "\n",
      "Done.\n"
     ]
    }
   ],
   "source": [
    "# pick a random seed\n",
    "start = numpy.random.randint(0, len(dataX)-1)\n",
    "pattern = dataX[start]\n",
    "print (\"Seed:\")\n",
    "print (\"\\\"\", ''.join([int_to_char[value] for value in pattern]), \"\\\"\")\n",
    "# generate characters\n",
    "\n",
    "x = numpy.reshape(pattern, (1, len(pattern), 1))\n",
    "x = x / float(n_vocab)\n",
    "prediction = model.predict(x, verbose=0)\n",
    "\n",
    "index = numpy.argmax(prediction)\n",
    "result = int_to_char[index]\n",
    "seq_in = [int_to_char[value] for value in pattern]\n",
    "sys.stdout.write(result)\n",
    "#print(result)\n",
    "pattern.append(index)\n",
    "pattern = pattern[1:len(pattern)]\n",
    "\n",
    "print('\\nPredict')\n",
    "print(''.join(seq_in))\n",
    "print (\"\\nDone.\")"
   ]
  },
  {
   "cell_type": "code",
   "execution_count": 87,
   "metadata": {},
   "outputs": [
    {
     "name": "stdout",
     "output_type": "stream",
     "text": [
      "Seed:\n",
      "\" \n",
      "“cheshire puss,” she began, rather timidly, as she did not at all know\n",
      "whether it would like the na \"\n",
      "uuuuuuuuuuuuuuuuuuuuuuuuuuuuuuuuuuuuuuuuuuuuuuuuuuuuuuuuuuuuuuuuuuuuuuuuuuuuuuuuuuuuuuuuuuuuuuuuuuuuuuuuuuuuuuuuuuuuuuuuuuuuuuuuuuuuuuuuuuuuuuuuuuuuuuuuuuuuuuuuuuuuuuuuuuuuuuuuuuuuuuuuuuuuuuuuuuuuuuuuuuuuuuuuuuuuuuuuuuuuuuuuuuuuuuuuuuuuuuuuuuuuuuuuuuuuuuuuuuuuuuuuuuuuuuuuuuuuuuuuuuuuuuuuuuuuuuuuuuuuuuuuuuuuuuuuuuuuuuuuuuuuuuuuuuuuuuuuuuuuuuuuuuuuuuuuuuuuuuuuuuuuuuuuuuuuuuuuuuuuuuuuuuuuuuuuuuuuuuuuuuuuuuuuuuuuuuuuuuuuuuuuuuuuuuuuuuuuuuuuuuuuuuuuuuuuuuuuuuuuuuuuuuuuuuuuuuuuuuuuuuuuuuuuuuuuuuuuuuuuuuuuuuuuuuuuuuuuuuuuuuuuuuuuuuuuuuuuuuuuuuuuuuuuuuuuuuuuuuuuuuuuuuuuuuuuuuuuuuuuuuuuuuuuuuuuuuuuuuuuuuuuuuuuuuuuuuuuuuuuuuuuuuuuuuuuuuuuuuuuuuuuuuuuuuuuuuuuuuuuuuuuuuuuuuuuuuuuuuuuuuuuuuuuuuuuuuuuuuuuuuuuuuuuuuuuuuuuuuuuuuuuuuuuuuuuuuuuuuuuuuuuuuuuuuuuuuuuuuuuuuuuuuuuuuuuuuuuuuuuuuuuuuuuuuuuuuuuuuuuuuuuuuuuuuuuuuuuuuuuuuuuuuuuuuuuuuuuuuuuuuuuuuuuuuuuuuuuuuuuuuuuuuuuuuuuuuuuuuuuuuuuuuuuuuuuuuuuuuuuuuuuuuuuuuuuuuuuuuuuuuuuuuuuuuuuuuuuuuuuuuuuuuuuuuuuuuuuuuuuuuuuuuuuuuuuuuuuuuuuuuuuuuuuuuuuuuuuuuuu\n",
      "Done.\n",
      "uuuuuuuuuuuuuuuuuuuuuuuuuuuuuuuuuuuuuuuuuuuuuuuuuuuuuuuuuuuuuuuuuuuuuuuuuuuuuuuuuuuuuuuuuuuuuuuuuuuu\n"
     ]
    }
   ],
   "source": [
    "# pick a random seed\n",
    "start = numpy.random.randint(0, len(dataX)-1)\n",
    "pattern = dataX[start]\n",
    "print(\"Seed:\")\n",
    "print (\"\\\"\", ''.join([int_to_char[value] for value in pattern]), \"\\\"\")\n",
    "# generate characters\n",
    "for i in range(1000):\n",
    "    x = numpy.reshape(pattern, (1, len(pattern), 1))\n",
    "    x = x / float(n_vocab)\n",
    "    prediction = model.predict(x, verbose=0)\n",
    "    index = numpy.argmax(prediction)\n",
    "    result = int_to_char[index]\n",
    "    seq_in = [int_to_char[value] for value in pattern]\n",
    "    #print(result)\n",
    "    sys.stdout.write(result)\n",
    "    pattern.append(index)\n",
    "    pattern = pattern[1:len(pattern)]\n",
    "print(\"\\nDone.\")\n",
    "print(''.join(seq_in))"
   ]
  },
  {
   "cell_type": "code",
   "execution_count": 55,
   "metadata": {},
   "outputs": [],
   "source": [
    "\n",
    "def playNote(nota):\n",
    "    PyAudio = pyaudio.PyAudio     #initialize pyaudio\n",
    "\n",
    "    #See https://en.wikipedia.org/wiki/Bit_rate#Audio\n",
    "    BITRATE = 16000     #number of frames per second/frameset.      \n",
    "\n",
    "    FREQUENCY = nota     #Hz, waves per second, 261.63=C4-note.\n",
    "    LENGTH = 0.05     #seconds to play sound\n",
    "\n",
    "    if FREQUENCY > BITRATE:\n",
    "        BITRATE = FREQUENCY+100\n",
    "\n",
    "    NUMBEROFFRAMES = int(BITRATE * LENGTH)\n",
    "    RESTFRAMES = NUMBEROFFRAMES % BITRATE\n",
    "    WAVEDATA = ''    \n",
    "\n",
    "    #generating wawes\n",
    "    for x in range(NUMBEROFFRAMES):\n",
    "     WAVEDATA = WAVEDATA+chr(int(math.sin(x/((BITRATE/FREQUENCY)/math.pi))*127+128))    \n",
    "\n",
    "    for x in range(RESTFRAMES): \n",
    "     WAVEDATA = WAVEDATA+chr(128)\n",
    "\n",
    "    p = PyAudio()\n",
    "    stream = p.open(format = p.get_format_from_width(1), \n",
    "                    channels = 1, \n",
    "                    rate = BITRATE, \n",
    "                    output = True)\n",
    "\n",
    "    stream.write(WAVEDATA)\n",
    "    stream.stop_stream()\n",
    "    stream.close()\n",
    "    p.terminate()"
   ]
  },
  {
   "cell_type": "code",
   "execution_count": null,
   "metadata": {},
   "outputs": [],
   "source": []
  },
  {
   "cell_type": "code",
   "execution_count": 29,
   "metadata": {
    "pycharm": {
     "name": "#%%\n"
    }
   },
   "outputs": [],
   "source": [
    "notas = pd.read_csv('notas.csv')"
   ]
  },
  {
   "cell_type": "code",
   "execution_count": 34,
   "metadata": {
    "pycharm": {
     "name": "#%%\n"
    },
    "scrolled": true
   },
   "outputs": [
    {
     "data": {
      "text/plain": [
       "'D♯7/E♭7'"
      ]
     },
     "execution_count": 34,
     "metadata": {},
     "output_type": "execute_result"
    }
   ],
   "source": [
    "notas['Notação científica (SPN)'].iloc[20]"
   ]
  },
  {
   "cell_type": "code",
   "execution_count": 20,
   "metadata": {},
   "outputs": [],
   "source": [
    "notas.loc[notas['Número da tecla'] == some_value]"
   ]
  },
  {
   "cell_type": "code",
   "execution_count": 21,
   "metadata": {},
   "outputs": [
    {
     "data": {
      "text/html": [
       "<div>\n",
       "<style scoped>\n",
       "    .dataframe tbody tr th:only-of-type {\n",
       "        vertical-align: middle;\n",
       "    }\n",
       "\n",
       "    .dataframe tbody tr th {\n",
       "        vertical-align: top;\n",
       "    }\n",
       "\n",
       "    .dataframe thead th {\n",
       "        text-align: right;\n",
       "    }\n",
       "</style>\n",
       "<table border=\"1\" class=\"dataframe\">\n",
       "  <thead>\n",
       "    <tr style=\"text-align: right;\">\n",
       "      <th></th>\n",
       "      <th>Número da tecla</th>\n",
       "      <th>Notação de Helmholtz</th>\n",
       "      <th>Notação científica (SPN)</th>\n",
       "      <th>Frequência (Hz)</th>\n",
       "      <th>Violino</th>\n",
       "      <th>Viola</th>\n",
       "      <th>Cello</th>\n",
       "      <th>Contrabaixo</th>\n",
       "      <th>Guitarra</th>\n",
       "    </tr>\n",
       "  </thead>\n",
       "  <tbody>\n",
       "    <tr>\n",
       "      <th>0</th>\n",
       "      <td>108</td>\n",
       "      <td>b′′′′′</td>\n",
       "      <td>B8</td>\n",
       "      <td>7902,133</td>\n",
       "      <td>NaN</td>\n",
       "      <td>NaN</td>\n",
       "      <td>NaN</td>\n",
       "      <td>NaN</td>\n",
       "      <td>NaN</td>\n",
       "    </tr>\n",
       "    <tr>\n",
       "      <th>1</th>\n",
       "      <td>107</td>\n",
       "      <td>a♯′′′′′/b♭′′′′′</td>\n",
       "      <td>A♯8/B♭8</td>\n",
       "      <td>7458,620</td>\n",
       "      <td>NaN</td>\n",
       "      <td>NaN</td>\n",
       "      <td>NaN</td>\n",
       "      <td>NaN</td>\n",
       "      <td>NaN</td>\n",
       "    </tr>\n",
       "    <tr>\n",
       "      <th>2</th>\n",
       "      <td>106</td>\n",
       "      <td>a′′′′′</td>\n",
       "      <td>A8</td>\n",
       "      <td>7040,000</td>\n",
       "      <td>NaN</td>\n",
       "      <td>NaN</td>\n",
       "      <td>NaN</td>\n",
       "      <td>NaN</td>\n",
       "      <td>NaN</td>\n",
       "    </tr>\n",
       "    <tr>\n",
       "      <th>3</th>\n",
       "      <td>105</td>\n",
       "      <td>g♯′′′′′/a♭′′′′′</td>\n",
       "      <td>G♯8/A♭8</td>\n",
       "      <td>6644,875</td>\n",
       "      <td>NaN</td>\n",
       "      <td>NaN</td>\n",
       "      <td>NaN</td>\n",
       "      <td>NaN</td>\n",
       "      <td>NaN</td>\n",
       "    </tr>\n",
       "    <tr>\n",
       "      <th>4</th>\n",
       "      <td>104</td>\n",
       "      <td>g′′′′′</td>\n",
       "      <td>G8</td>\n",
       "      <td>6271,927</td>\n",
       "      <td>NaN</td>\n",
       "      <td>NaN</td>\n",
       "      <td>NaN</td>\n",
       "      <td>NaN</td>\n",
       "      <td>NaN</td>\n",
       "    </tr>\n",
       "    <tr>\n",
       "      <th>...</th>\n",
       "      <td>...</td>\n",
       "      <td>...</td>\n",
       "      <td>...</td>\n",
       "      <td>...</td>\n",
       "      <td>...</td>\n",
       "      <td>...</td>\n",
       "      <td>...</td>\n",
       "      <td>...</td>\n",
       "      <td>...</td>\n",
       "    </tr>\n",
       "    <tr>\n",
       "      <th>102</th>\n",
       "      <td>94</td>\n",
       "      <td>F͵͵</td>\n",
       "      <td>F0</td>\n",
       "      <td>21,82676</td>\n",
       "      <td>NaN</td>\n",
       "      <td>NaN</td>\n",
       "      <td>NaN</td>\n",
       "      <td>NaN</td>\n",
       "      <td>NaN</td>\n",
       "    </tr>\n",
       "    <tr>\n",
       "      <th>103</th>\n",
       "      <td>93</td>\n",
       "      <td>E͵͵</td>\n",
       "      <td>E0</td>\n",
       "      <td>20,60172</td>\n",
       "      <td>NaN</td>\n",
       "      <td>NaN</td>\n",
       "      <td>NaN</td>\n",
       "      <td>NaN</td>\n",
       "      <td>NaN</td>\n",
       "    </tr>\n",
       "    <tr>\n",
       "      <th>104</th>\n",
       "      <td>92</td>\n",
       "      <td>D♯͵͵/E♭͵͵</td>\n",
       "      <td>D♯0/E♭0</td>\n",
       "      <td>19,44544</td>\n",
       "      <td>NaN</td>\n",
       "      <td>NaN</td>\n",
       "      <td>NaN</td>\n",
       "      <td>NaN</td>\n",
       "      <td>NaN</td>\n",
       "    </tr>\n",
       "    <tr>\n",
       "      <th>105</th>\n",
       "      <td>91</td>\n",
       "      <td>D͵͵</td>\n",
       "      <td>D0</td>\n",
       "      <td>18,35405</td>\n",
       "      <td>NaN</td>\n",
       "      <td>NaN</td>\n",
       "      <td>NaN</td>\n",
       "      <td>NaN</td>\n",
       "      <td>NaN</td>\n",
       "    </tr>\n",
       "    <tr>\n",
       "      <th>106</th>\n",
       "      <td>90</td>\n",
       "      <td>C♯͵͵/D♭͵͵</td>\n",
       "      <td>C♯0/D♭0</td>\n",
       "      <td>17,32391</td>\n",
       "      <td>NaN</td>\n",
       "      <td>NaN</td>\n",
       "      <td>NaN</td>\n",
       "      <td>NaN</td>\n",
       "      <td>NaN</td>\n",
       "    </tr>\n",
       "  </tbody>\n",
       "</table>\n",
       "<p>107 rows × 9 columns</p>\n",
       "</div>"
      ],
      "text/plain": [
       "     Número da tecla Notação de Helmholtz Notação científica (SPN)  \\\n",
       "0                108               b′′′′′                       B8   \n",
       "1                107      a♯′′′′′/b♭′′′′′                  A♯8/B♭8   \n",
       "2                106               a′′′′′                       A8   \n",
       "3                105      g♯′′′′′/a♭′′′′′                  G♯8/A♭8   \n",
       "4                104               g′′′′′                       G8   \n",
       "..               ...                  ...                      ...   \n",
       "102               94                  F͵͵                       F0   \n",
       "103               93                  E͵͵                       E0   \n",
       "104               92            D♯͵͵/E♭͵͵                  D♯0/E♭0   \n",
       "105               91                  D͵͵                       D0   \n",
       "106               90            C♯͵͵/D♭͵͵                  C♯0/D♭0   \n",
       "\n",
       "    Frequência (Hz) Violino Viola Cello Contrabaixo Guitarra  \n",
       "0          7902,133     NaN   NaN   NaN         NaN      NaN  \n",
       "1          7458,620     NaN   NaN   NaN         NaN      NaN  \n",
       "2          7040,000     NaN   NaN   NaN         NaN      NaN  \n",
       "3          6644,875     NaN   NaN   NaN         NaN      NaN  \n",
       "4          6271,927     NaN   NaN   NaN         NaN      NaN  \n",
       "..              ...     ...   ...   ...         ...      ...  \n",
       "102        21,82676     NaN   NaN   NaN         NaN      NaN  \n",
       "103        20,60172     NaN   NaN   NaN         NaN      NaN  \n",
       "104        19,44544     NaN   NaN   NaN         NaN      NaN  \n",
       "105        18,35405     NaN   NaN   NaN         NaN      NaN  \n",
       "106        17,32391     NaN   NaN   NaN         NaN      NaN  \n",
       "\n",
       "[107 rows x 9 columns]"
      ]
     },
     "execution_count": 21,
     "metadata": {},
     "output_type": "execute_result"
    }
   ],
   "source": [
    "notas"
   ]
  },
  {
   "cell_type": "code",
   "execution_count": null,
   "metadata": {},
   "outputs": [],
   "source": [
    "\n",
    "for x in [char_to_int[char] for char in seq_in]:\n",
    "    freq = notas.loc[notas['Número da tecla'] == x]['Frequência (Hz)'].values[0].replace(\",\",\".\")\n",
    "    playNote(float(freq))"
   ]
  }
 ],
 "metadata": {
  "kernelspec": {
   "display_name": "Python 3",
   "language": "python",
   "name": "python3"
  },
  "language_info": {
   "codemirror_mode": {
    "name": "ipython",
    "version": 3
   },
   "file_extension": ".py",
   "mimetype": "text/x-python",
   "name": "python",
   "nbconvert_exporter": "python",
   "pygments_lexer": "ipython3",
   "version": "3.6.8"
  }
 },
 "nbformat": 4,
 "nbformat_minor": 2
}
