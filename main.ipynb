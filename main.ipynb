{
 "cells": [
  {
   "cell_type": "code",
   "execution_count": 1,
   "metadata": {},
   "outputs": [
    {
     "name": "stderr",
     "output_type": "stream",
     "text": [
      "Using TensorFlow backend.\n"
     ]
    }
   ],
   "source": [
    "import numpy\n",
    "from keras.models import Sequential\n",
    "from keras.layers import Dense\n",
    "from keras.layers import Dropout\n",
    "from keras.layers import LSTM\n",
    "from keras.callbacks import EarlyStopping, ModelCheckpoint\n",
    "from keras.utils import np_utils\n",
    "import os\n",
    "from datetime import datetime\n",
    "import matplotlib.pyplot as plt\n",
    "import sys\n",
    "import math        #import needed modules\n",
    "import pyaudio     #sudo apt-get install python-pyaudio\n",
    "import pandas as pd\n",
    "from sklearn.model_selection import train_test_split\n",
    "import random"
   ]
  },
  {
   "cell_type": "code",
   "execution_count": 2,
   "metadata": {},
   "outputs": [],
   "source": [
    "epochs = 60\n",
    "stepsPerEpochs= 20\n",
    "VALIDATION_SIZE = 1\n",
    "BATCH_SIZE = 128\n",
    "checkpoint =\"weights-improvement-{epoch:02d}-{loss:.4f}-bigger.hdf5\"\n",
    "seq_length = 200\n",
    "\n",
    "\n",
    "# load ascii text and covert to lowercase\n",
    "filename = \"wonderlandFull.txt\"\n",
    "filenameTest = \"wonderlandTest.txt\""
   ]
  },
  {
   "cell_type": "code",
   "execution_count": 3,
   "metadata": {},
   "outputs": [
    {
     "name": "stdout",
     "output_type": "stream",
     "text": [
      "Total Characters:  164200\n",
      "Total Vocab:  64\n"
     ]
    }
   ],
   "source": [
    "\n",
    "raw_text = open(filename, 'r', encoding='utf-8').read()\n",
    "raw_text = raw_text.lower()\n",
    "\n",
    "# create mapping of unique chars to integers\n",
    "chars = sorted(list(set(raw_text)))\n",
    "char_to_int = dict((c, i) for i, c in enumerate(chars))\n",
    "int_to_char = dict((i, c) for i, c in enumerate(chars))\n",
    "# summarize the loaded data\n",
    "n_chars = len(raw_text)\n",
    "n_vocab = len(chars)\n",
    "print(\"Total Characters: \", n_chars)\n",
    "print(\"Total Vocab: \", n_vocab)"
   ]
  },
  {
   "cell_type": "code",
   "execution_count": 4,
   "metadata": {},
   "outputs": [
    {
     "name": "stderr",
     "output_type": "stream",
     "text": [
      "WARNING: Logging before flag parsing goes to stderr.\n",
      "W0929 15:32:09.782353 15176 deprecation_wrapper.py:119] From c:\\users\\t-gamer\\documents\\git\\projetointeligenciaartificialsistemasugestao\\gpuvenv\\lib\\site-packages\\keras\\backend\\tensorflow_backend.py:74: The name tf.get_default_graph is deprecated. Please use tf.compat.v1.get_default_graph instead.\n",
      "\n",
      "W0929 15:32:09.797353 15176 deprecation_wrapper.py:119] From c:\\users\\t-gamer\\documents\\git\\projetointeligenciaartificialsistemasugestao\\gpuvenv\\lib\\site-packages\\keras\\backend\\tensorflow_backend.py:517: The name tf.placeholder is deprecated. Please use tf.compat.v1.placeholder instead.\n",
      "\n",
      "W0929 15:32:09.799354 15176 deprecation_wrapper.py:119] From c:\\users\\t-gamer\\documents\\git\\projetointeligenciaartificialsistemasugestao\\gpuvenv\\lib\\site-packages\\keras\\backend\\tensorflow_backend.py:4138: The name tf.random_uniform is deprecated. Please use tf.random.uniform instead.\n",
      "\n",
      "W0929 15:32:10.119058 15176 deprecation_wrapper.py:119] From c:\\users\\t-gamer\\documents\\git\\projetointeligenciaartificialsistemasugestao\\gpuvenv\\lib\\site-packages\\keras\\backend\\tensorflow_backend.py:133: The name tf.placeholder_with_default is deprecated. Please use tf.compat.v1.placeholder_with_default instead.\n",
      "\n",
      "W0929 15:32:10.124058 15176 deprecation.py:506] From c:\\users\\t-gamer\\documents\\git\\projetointeligenciaartificialsistemasugestao\\gpuvenv\\lib\\site-packages\\keras\\backend\\tensorflow_backend.py:3445: calling dropout (from tensorflow.python.ops.nn_ops) with keep_prob is deprecated and will be removed in a future version.\n",
      "Instructions for updating:\n",
      "Please use `rate` instead of `keep_prob`. Rate should be set to `rate = 1 - keep_prob`.\n",
      "W0929 15:32:10.532444 15176 deprecation_wrapper.py:119] From c:\\users\\t-gamer\\documents\\git\\projetointeligenciaartificialsistemasugestao\\gpuvenv\\lib\\site-packages\\keras\\optimizers.py:790: The name tf.train.Optimizer is deprecated. Please use tf.compat.v1.train.Optimizer instead.\n",
      "\n",
      "W0929 15:32:10.546443 15176 deprecation_wrapper.py:119] From c:\\users\\t-gamer\\documents\\git\\projetointeligenciaartificialsistemasugestao\\gpuvenv\\lib\\site-packages\\keras\\backend\\tensorflow_backend.py:3295: The name tf.log is deprecated. Please use tf.math.log instead.\n",
      "\n"
     ]
    }
   ],
   "source": [
    "# define the LSTM model\n",
    "model = Sequential()\n",
    "model.add(LSTM(256, input_shape=(seq_length, 1), return_sequences=True))\n",
    "\n",
    "model.add(Dropout(0.2))\n",
    "#model.add(LSTM(256, return_sequences=True))\n",
    "#model.add(Dropout(0.2))\n",
    "model.add(LSTM(256))\n",
    "model.add(Dropout(0.2))\n",
    "model.add(Dense(len(char_to_int), activation='softmax'))\n",
    "model.compile(loss='categorical_crossentropy', optimizer='adam', metrics = ['accuracy'])\n"
   ]
  },
  {
   "cell_type": "code",
   "execution_count": 5,
   "metadata": {},
   "outputs": [],
   "source": [
    "\n",
    "if os.path.isfile(checkpoint):\n",
    "    model.load_weights(checkpoint)\n",
    "\n",
    "mc = ModelCheckpoint(checkpoint, monitor='loss', verbose=1, save_best_only=True, mode='min')\n",
    "es = EarlyStopping(monitor='val_loss', mode='min', verbose=1, patience=100, min_delta=0.000001)\n",
    "callbacks=[es, mc]"
   ]
  },
  {
   "cell_type": "code",
   "execution_count": 6,
   "metadata": {},
   "outputs": [],
   "source": [
    "\n",
    "# Load data\n",
    "def generate_arrays_from_file(path, batchsize):\n",
    "    dataX = []\n",
    "    dataY = []\n",
    "    batchcount = 0\n",
    "    while True:\n",
    "        with open(path) as f:\n",
    "\n",
    "            for i in range(0, n_chars - seq_length, 1):\n",
    "                seq_in = raw_text[i:i + seq_length]\n",
    "                seq_out = raw_text[i + seq_length]\n",
    "                dataX.append([char_to_int[char] for char in seq_in])\n",
    "                dataY.append(char_to_int[seq_out])\n",
    "\n",
    "                batchcount += 1\n",
    "\n",
    "                if batchcount > batchsize:\n",
    "                    X = numpy.reshape(dataX, (batchsize+1, seq_length, 1))\n",
    "                    \n",
    "                    onehot_encoded = list()\n",
    "\n",
    "                    for data in dataY:\n",
    "                        letter = [0 for _ in range(n_vocab)]\n",
    "                        letter[data] = 1\n",
    "\n",
    "                        onehot_encoded.append(letter)\n",
    "                        \n",
    "                    y = numpy.array(onehot_encoded)\n",
    "                        \n",
    "                    #print(len(y[0]),y[0])\n",
    "                    yield (X, y)                    \n",
    "                    dataX = []\n",
    "                    dataY = []\n",
    "                    batchcount = 0\n",
    "             "
   ]
  },
  {
   "cell_type": "code",
   "execution_count": 7,
   "metadata": {
    "scrolled": false
   },
   "outputs": [
    {
     "name": "stderr",
     "output_type": "stream",
     "text": [
      "W0929 15:32:13.926696 15176 deprecation.py:323] From c:\\users\\t-gamer\\documents\\git\\projetointeligenciaartificialsistemasugestao\\gpuvenv\\lib\\site-packages\\tensorflow\\python\\ops\\math_grad.py:1250: add_dispatch_support.<locals>.wrapper (from tensorflow.python.ops.array_ops) is deprecated and will be removed in a future version.\n",
      "Instructions for updating:\n",
      "Use tf.where in 2.0, which has the same broadcast rule as np.where\n"
     ]
    },
    {
     "name": "stdout",
     "output_type": "stream",
     "text": [
      "Epoch 1/60\n",
      "20/20 [==============================] - 16s 814ms/step - loss: 3.3084 - acc: 0.1488 - val_loss: 3.1782 - val_acc: 0.1651\n",
      "\n",
      "Epoch 00001: loss improved from inf to 3.30842, saving model to weights-improvement-01-3.3084-bigger.hdf5\n",
      "Epoch 2/60\n",
      "20/20 [==============================] - 14s 685ms/step - loss: 3.0690 - acc: 0.1756 - val_loss: 2.9263 - val_acc: 0.1915\n",
      "\n",
      "Epoch 00002: loss improved from 3.30842 to 3.06896, saving model to weights-improvement-02-3.0690-bigger.hdf5\n",
      "Epoch 3/60\n",
      "20/20 [==============================] - 14s 685ms/step - loss: 2.9344 - acc: 0.2050 - val_loss: 2.8745 - val_acc: 0.2271\n",
      "\n",
      "Epoch 00003: loss improved from 3.06896 to 2.93437, saving model to weights-improvement-03-2.9344-bigger.hdf5\n",
      "Epoch 4/60\n",
      "20/20 [==============================] - 14s 683ms/step - loss: 3.0504 - acc: 0.1895 - val_loss: 2.9570 - val_acc: 0.1736\n",
      "\n",
      "Epoch 00004: loss did not improve from 2.93437\n",
      "Epoch 5/60\n",
      "20/20 [==============================] - 14s 683ms/step - loss: 2.8663 - acc: 0.2167 - val_loss: 2.8859 - val_acc: 0.2248\n",
      "\n",
      "Epoch 00005: loss improved from 2.93437 to 2.86629, saving model to weights-improvement-05-2.8663-bigger.hdf5\n",
      "Epoch 6/60\n",
      "20/20 [==============================] - 14s 686ms/step - loss: 2.8779 - acc: 0.2260 - val_loss: 2.7233 - val_acc: 0.2457\n",
      "\n",
      "Epoch 00006: loss did not improve from 2.86629\n",
      "Epoch 7/60\n",
      "20/20 [==============================] - 14s 683ms/step - loss: 2.8554 - acc: 0.2229 - val_loss: 2.8371 - val_acc: 0.2217\n",
      "\n",
      "Epoch 00007: loss improved from 2.86629 to 2.85538, saving model to weights-improvement-07-2.8554-bigger.hdf5\n",
      "Epoch 8/60\n",
      "20/20 [==============================] - 14s 688ms/step - loss: 2.8326 - acc: 0.2233 - val_loss: 2.6758 - val_acc: 0.2775\n",
      "\n",
      "Epoch 00008: loss improved from 2.85538 to 2.83260, saving model to weights-improvement-08-2.8326-bigger.hdf5\n",
      "Epoch 9/60\n",
      "20/20 [==============================] - 14s 684ms/step - loss: 2.8771 - acc: 0.2217 - val_loss: 2.7766 - val_acc: 0.2233\n",
      "\n",
      "Epoch 00009: loss did not improve from 2.83260\n",
      "Epoch 10/60\n",
      "20/20 [==============================] - 14s 685ms/step - loss: 2.8580 - acc: 0.2186 - val_loss: 2.6741 - val_acc: 0.2783\n",
      "\n",
      "Epoch 00010: loss did not improve from 2.83260\n",
      "Epoch 11/60\n",
      "20/20 [==============================] - 14s 682ms/step - loss: 2.8127 - acc: 0.2384 - val_loss: 2.7951 - val_acc: 0.2558\n",
      "\n",
      "Epoch 00011: loss improved from 2.83260 to 2.81272, saving model to weights-improvement-11-2.8127-bigger.hdf5\n",
      "Epoch 12/60\n",
      "20/20 [==============================] - 14s 684ms/step - loss: 2.7823 - acc: 0.2523 - val_loss: 2.7553 - val_acc: 0.2240\n",
      "\n",
      "Epoch 00012: loss improved from 2.81272 to 2.78234, saving model to weights-improvement-12-2.7823-bigger.hdf5\n",
      "Epoch 13/60\n",
      "20/20 [==============================] - 14s 676ms/step - loss: 2.8468 - acc: 0.2093 - val_loss: 2.7761 - val_acc: 0.2550\n",
      "\n",
      "Epoch 00013: loss did not improve from 2.78234\n",
      "Epoch 14/60\n",
      "20/20 [==============================] - 14s 679ms/step - loss: 2.7442 - acc: 0.2446 - val_loss: 2.7392 - val_acc: 0.2543\n",
      "\n",
      "Epoch 00014: loss improved from 2.78234 to 2.74423, saving model to weights-improvement-14-2.7442-bigger.hdf5\n",
      "Epoch 15/60\n",
      "20/20 [==============================] - 14s 675ms/step - loss: 2.7776 - acc: 0.2419 - val_loss: 2.6210 - val_acc: 0.2643\n",
      "\n",
      "Epoch 00015: loss did not improve from 2.74423\n",
      "Epoch 16/60\n",
      "20/20 [==============================] - 14s 679ms/step - loss: 2.8760 - acc: 0.2248 - val_loss: 2.7962 - val_acc: 0.2302\n",
      "\n",
      "Epoch 00016: loss did not improve from 2.74423\n",
      "Epoch 17/60\n",
      "20/20 [==============================] - 14s 676ms/step - loss: 2.7891 - acc: 0.2345 - val_loss: 2.7443 - val_acc: 0.2434\n",
      "\n",
      "Epoch 00017: loss did not improve from 2.74423\n",
      "Epoch 18/60\n",
      "20/20 [==============================] - 13s 673ms/step - loss: 2.7064 - acc: 0.2574 - val_loss: 2.7918 - val_acc: 0.2357\n",
      "\n",
      "Epoch 00018: loss improved from 2.74423 to 2.70638, saving model to weights-improvement-18-2.7064-bigger.hdf5\n",
      "Epoch 19/60\n",
      "20/20 [==============================] - 14s 679ms/step - loss: 2.8401 - acc: 0.2143 - val_loss: 2.6857 - val_acc: 0.2488\n",
      "\n",
      "Epoch 00019: loss did not improve from 2.70638\n",
      "Epoch 20/60\n",
      "20/20 [==============================] - 14s 687ms/step - loss: 2.7790 - acc: 0.2209 - val_loss: 2.8169 - val_acc: 0.2279\n",
      "\n",
      "Epoch 00020: loss did not improve from 2.70638\n",
      "Epoch 21/60\n",
      "20/20 [==============================] - 14s 680ms/step - loss: 2.6526 - acc: 0.2713 - val_loss: 2.7202 - val_acc: 0.2543\n",
      "\n",
      "Epoch 00021: loss improved from 2.70638 to 2.65255, saving model to weights-improvement-21-2.6526-bigger.hdf5\n",
      "Epoch 22/60\n",
      "20/20 [==============================] - 14s 722ms/step - loss: 2.7669 - acc: 0.2388 - val_loss: 2.6956 - val_acc: 0.2535\n",
      "\n",
      "Epoch 00022: loss did not improve from 2.65255\n",
      "Epoch 23/60\n",
      "20/20 [==============================] - 14s 708ms/step - loss: 2.7229 - acc: 0.2438 - val_loss: 2.5879 - val_acc: 0.2961\n",
      "\n",
      "Epoch 00023: loss did not improve from 2.65255\n",
      "Epoch 24/60\n",
      "20/20 [==============================] - 14s 680ms/step - loss: 2.7059 - acc: 0.2477 - val_loss: 2.7446 - val_acc: 0.2628\n",
      "\n",
      "Epoch 00024: loss did not improve from 2.65255\n",
      "Epoch 25/60\n",
      "20/20 [==============================] - 14s 680ms/step - loss: 2.6932 - acc: 0.2508 - val_loss: 2.8139 - val_acc: 0.2202\n",
      "\n",
      "Epoch 00025: loss did not improve from 2.65255\n",
      "Epoch 26/60\n",
      "20/20 [==============================] - 13s 672ms/step - loss: 2.7433 - acc: 0.2504 - val_loss: 2.6706 - val_acc: 0.2504\n",
      "\n",
      "Epoch 00026: loss did not improve from 2.65255\n",
      "Epoch 27/60\n",
      "20/20 [==============================] - 14s 695ms/step - loss: 2.6673 - acc: 0.2581 - val_loss: 2.6636 - val_acc: 0.2636\n",
      "\n",
      "Epoch 00027: loss did not improve from 2.65255\n",
      "Epoch 28/60\n",
      "20/20 [==============================] - 14s 711ms/step - loss: 2.6164 - acc: 0.2570 - val_loss: 2.6396 - val_acc: 0.2698\n",
      "\n",
      "Epoch 00028: loss improved from 2.65255 to 2.61638, saving model to weights-improvement-28-2.6164-bigger.hdf5\n",
      "Epoch 29/60\n",
      "20/20 [==============================] - 14s 691ms/step - loss: 2.6487 - acc: 0.2399 - val_loss: 2.7733 - val_acc: 0.2380\n",
      "\n",
      "Epoch 00029: loss did not improve from 2.61638\n",
      "Epoch 30/60\n",
      "20/20 [==============================] - 14s 678ms/step - loss: 2.6255 - acc: 0.2519 - val_loss: 2.6629 - val_acc: 0.2411\n",
      "\n",
      "Epoch 00030: loss did not improve from 2.61638\n",
      "Epoch 31/60\n",
      "20/20 [==============================] - 13s 655ms/step - loss: 2.7141 - acc: 0.2388 - val_loss: 2.7716 - val_acc: 0.2287\n",
      "\n",
      "Epoch 00031: loss did not improve from 2.61638\n",
      "Epoch 32/60\n",
      "20/20 [==============================] - 13s 654ms/step - loss: 2.6453 - acc: 0.2516 - val_loss: 2.8393 - val_acc: 0.2349\n",
      "\n",
      "Epoch 00032: loss did not improve from 2.61638\n",
      "Epoch 33/60\n",
      "20/20 [==============================] - 13s 652ms/step - loss: 2.6353 - acc: 0.2655 - val_loss: 2.7749 - val_acc: 0.2395\n",
      "\n",
      "Epoch 00033: loss did not improve from 2.61638\n",
      "Epoch 34/60\n",
      "20/20 [==============================] - 13s 652ms/step - loss: 2.6644 - acc: 0.2597 - val_loss: 2.5799 - val_acc: 0.2651\n",
      "\n",
      "Epoch 00034: loss did not improve from 2.61638\n",
      "Epoch 35/60\n",
      "20/20 [==============================] - 14s 683ms/step - loss: 2.6305 - acc: 0.2775 - val_loss: 2.6384 - val_acc: 0.2628\n",
      "\n",
      "Epoch 00035: loss did not improve from 2.61638\n",
      "Epoch 36/60\n",
      "20/20 [==============================] - 13s 674ms/step - loss: 2.6740 - acc: 0.2578 - val_loss: 2.6137 - val_acc: 0.2798\n",
      "\n",
      "Epoch 00036: loss did not improve from 2.61638\n",
      "Epoch 37/60\n",
      "20/20 [==============================] - 14s 682ms/step - loss: 2.5905 - acc: 0.2744 - val_loss: 2.6972 - val_acc: 0.2357\n",
      "\n",
      "Epoch 00037: loss improved from 2.61638 to 2.59050, saving model to weights-improvement-37-2.5905-bigger.hdf5\n",
      "Epoch 38/60\n",
      "20/20 [==============================] - 14s 686ms/step - loss: 2.5756 - acc: 0.2775 - val_loss: 2.6448 - val_acc: 0.2643\n",
      "\n",
      "Epoch 00038: loss improved from 2.59050 to 2.57559, saving model to weights-improvement-38-2.5756-bigger.hdf5\n",
      "Epoch 39/60\n",
      "20/20 [==============================] - 14s 678ms/step - loss: 2.6590 - acc: 0.2578 - val_loss: 2.7446 - val_acc: 0.2364\n",
      "\n",
      "Epoch 00039: loss did not improve from 2.57559\n",
      "Epoch 40/60\n",
      "20/20 [==============================] - 14s 679ms/step - loss: 2.6606 - acc: 0.2585 - val_loss: 2.6302 - val_acc: 0.2612\n",
      "\n",
      "Epoch 00040: loss did not improve from 2.57559\n",
      "Epoch 41/60\n"
     ]
    },
    {
     "name": "stdout",
     "output_type": "stream",
     "text": [
      "20/20 [==============================] - 13s 675ms/step - loss: 2.5493 - acc: 0.2822 - val_loss: 2.5803 - val_acc: 0.2744\n",
      "\n",
      "Epoch 00041: loss improved from 2.57559 to 2.54929, saving model to weights-improvement-41-2.5493-bigger.hdf5\n",
      "Epoch 42/60\n",
      "20/20 [==============================] - 14s 675ms/step - loss: 2.5898 - acc: 0.2705 - val_loss: 2.4099 - val_acc: 0.3442\n",
      "\n",
      "Epoch 00042: loss did not improve from 2.54929\n",
      "Epoch 43/60\n",
      "20/20 [==============================] - 13s 675ms/step - loss: 2.6705 - acc: 0.2457 - val_loss: 2.6076 - val_acc: 0.2752\n",
      "\n",
      "Epoch 00043: loss did not improve from 2.54929\n",
      "Epoch 44/60\n",
      "20/20 [==============================] - 13s 674ms/step - loss: 2.6266 - acc: 0.2674 - val_loss: 2.6328 - val_acc: 0.2744\n",
      "\n",
      "Epoch 00044: loss did not improve from 2.54929\n",
      "Epoch 45/60\n",
      "20/20 [==============================] - 14s 678ms/step - loss: 2.5324 - acc: 0.2953 - val_loss: 2.5945 - val_acc: 0.2457\n",
      "\n",
      "Epoch 00045: loss improved from 2.54929 to 2.53237, saving model to weights-improvement-45-2.5324-bigger.hdf5\n",
      "Epoch 46/60\n",
      "20/20 [==============================] - 14s 697ms/step - loss: 2.5230 - acc: 0.2849 - val_loss: 2.6948 - val_acc: 0.2481\n",
      "\n",
      "Epoch 00046: loss improved from 2.53237 to 2.52296, saving model to weights-improvement-46-2.5230-bigger.hdf5\n",
      "Epoch 47/60\n",
      "20/20 [==============================] - 14s 679ms/step - loss: 2.5845 - acc: 0.2632 - val_loss: 2.5784 - val_acc: 0.2837\n",
      "\n",
      "Epoch 00047: loss did not improve from 2.52296\n",
      "Epoch 48/60\n",
      "20/20 [==============================] - 14s 685ms/step - loss: 2.7210 - acc: 0.2523 - val_loss: 2.6561 - val_acc: 0.2450\n",
      "\n",
      "Epoch 00048: loss did not improve from 2.52296\n",
      "Epoch 49/60\n",
      "20/20 [==============================] - 13s 674ms/step - loss: 2.6186 - acc: 0.2752 - val_loss: 2.5013 - val_acc: 0.2884\n",
      "\n",
      "Epoch 00049: loss did not improve from 2.52296\n",
      "Epoch 50/60\n",
      "20/20 [==============================] - 13s 675ms/step - loss: 2.5368 - acc: 0.2833 - val_loss: 2.5708 - val_acc: 0.2729\n",
      "\n",
      "Epoch 00050: loss did not improve from 2.52296\n",
      "Epoch 51/60\n",
      "20/20 [==============================] - 13s 675ms/step - loss: 2.5487 - acc: 0.2767 - val_loss: 2.6145 - val_acc: 0.2705\n",
      "\n",
      "Epoch 00051: loss did not improve from 2.52296\n",
      "Epoch 52/60\n",
      "20/20 [==============================] - 14s 693ms/step - loss: 2.5787 - acc: 0.2752 - val_loss: 2.5637 - val_acc: 0.2791\n",
      "\n",
      "Epoch 00052: loss did not improve from 2.52296\n",
      "Epoch 53/60\n",
      "20/20 [==============================] - 14s 697ms/step - loss: 2.6009 - acc: 0.2589 - val_loss: 2.5693 - val_acc: 0.2752\n",
      "\n",
      "Epoch 00053: loss did not improve from 2.52296\n",
      "Epoch 54/60\n",
      "20/20 [==============================] - 14s 693ms/step - loss: 2.5137 - acc: 0.2977 - val_loss: 2.5208 - val_acc: 0.2798\n",
      "\n",
      "Epoch 00054: loss improved from 2.52296 to 2.51373, saving model to weights-improvement-54-2.5137-bigger.hdf5\n",
      "Epoch 55/60\n",
      "20/20 [==============================] - 14s 679ms/step - loss: 2.5657 - acc: 0.2818 - val_loss: 2.4479 - val_acc: 0.2845\n",
      "\n",
      "Epoch 00055: loss did not improve from 2.51373\n",
      "Epoch 56/60\n",
      "20/20 [==============================] - 14s 683ms/step - loss: 2.5409 - acc: 0.2729 - val_loss: 2.5289 - val_acc: 0.2876\n",
      "\n",
      "Epoch 00056: loss did not improve from 2.51373\n",
      "Epoch 57/60\n",
      "20/20 [==============================] - 14s 677ms/step - loss: 2.9576 - acc: 0.2016 - val_loss: 2.6122 - val_acc: 0.2791\n",
      "\n",
      "Epoch 00057: loss did not improve from 2.51373\n",
      "Epoch 58/60\n",
      "20/20 [==============================] - 14s 685ms/step - loss: 2.7533 - acc: 0.2151 - val_loss: 2.6978 - val_acc: 0.2527\n",
      "\n",
      "Epoch 00058: loss did not improve from 2.51373\n",
      "Epoch 59/60\n",
      "20/20 [==============================] - 14s 682ms/step - loss: 2.7281 - acc: 0.2233 - val_loss: 2.6424 - val_acc: 0.2798\n",
      "\n",
      "Epoch 00059: loss did not improve from 2.51373\n",
      "Epoch 60/60\n",
      "20/20 [==============================] - 14s 689ms/step - loss: 2.7676 - acc: 0.2155 - val_loss: 2.7465 - val_acc: 0.2287\n",
      "\n",
      "Epoch 00060: loss did not improve from 2.51373\n"
     ]
    }
   ],
   "source": [
    "history = model.fit_generator( generate_arrays_from_file(filename,BATCH_SIZE), epochs=epochs, steps_per_epoch=stepsPerEpochs, verbose=1, validation_data=generate_arrays_from_file(filenameTest,BATCH_SIZE),callbacks = callbacks, validation_steps=10)"
   ]
  },
  {
   "cell_type": "code",
   "execution_count": 8,
   "metadata": {},
   "outputs": [
    {
     "data": {
      "text/plain": [
       "<module 'matplotlib.pyplot' from 'c:\\\\users\\\\t-gamer\\\\documents\\\\git\\\\projetointeligenciaartificialsistemasugestao\\\\gpuvenv\\\\lib\\\\site-packages\\\\matplotlib\\\\pyplot.py'>"
      ]
     },
     "execution_count": 8,
     "metadata": {},
     "output_type": "execute_result"
    },
    {
     "data": {
      "image/png": "[encoded data removed]",
      "text/plain": [
       "<Figure size 432x288 with 1 Axes>"
      ]
     },
     "metadata": {
      "needs_background": "light"
     },
     "output_type": "display_data"
    }
   ],
   "source": [
    "time = datetime.now()\n",
    "timestampStr = time.strftime(\"%d %b %Y %H %M %S %f)\")\n",
    "plt.plot(history.history['acc'])\n",
    "plt.plot(history.history['val_acc'])\n",
    "plt.title('model accuracy')\n",
    "plt.ylabel('accuracy')\n",
    "plt.xlabel('epoch')\n",
    "plt.legend(['train', 'test'], loc='upper left')\n",
    "plt"
   ]
  },
  {
   "cell_type": "code",
   "execution_count": 9,
   "metadata": {},
   "outputs": [
    {
     "data": {
      "text/plain": [
       "<module 'matplotlib.pyplot' from 'c:\\\\users\\\\t-gamer\\\\documents\\\\git\\\\projetointeligenciaartificialsistemasugestao\\\\gpuvenv\\\\lib\\\\site-packages\\\\matplotlib\\\\pyplot.py'>"
      ]
     },
     "execution_count": 9,
     "metadata": {},
     "output_type": "execute_result"
    },
    {
     "data": {
      "image/png": "[encoded data removed]",
      "text/plain": [
       "<Figure size 432x288 with 1 Axes>"
      ]
     },
     "metadata": {
      "needs_background": "light"
     },
     "output_type": "display_data"
    }
   ],
   "source": [
    "plt.plot(history.history['loss'])\n",
    "plt.plot(history.history['val_loss'])\n",
    "plt.title('model loss')\n",
    "plt.ylabel('loss')\n",
    "plt.xlabel('epoch')\n",
    "plt.legend(['train', 'test'], loc='upper left')\n",
    "plt.savefig(\"loss\"+timestampStr+\".png\")\n",
    "plt"
   ]
  },
  {
   "cell_type": "markdown",
   "metadata": {},
   "source": [
    "- Teste"
   ]
  },
  {
   "cell_type": "code",
   "execution_count": 22,
   "metadata": {},
   "outputs": [],
   "source": [
    "testText = '''\n",
    "The president’s tax returns reveal another grand twist that has never been truly told — how the popularity of that fictional alter ego rescued him, providing a financial lifeline to reinvent himself yet again. And then how, in an echo of the boom-and-bust cycle that has defined his business career, he led himself toward the financial shoals he must navigate today.\n",
    "Mr. Trump’s genius, it turned out, wasn’t running a company. It was making himself famous — Trump-scale famous — and monetizing that fame.\n",
    "By analyzing the tax records, The New York Times was able to place a value on Mr. Trump’s celebrity. While the returns show that he earned some $197 million directly from “The Apprentice” over 16 years — roughly in line with what he has claimed — they also reveal that an additional $230 million flowed from the fame associated with it.\"\n",
    "'''\n",
    "dataTestX = []\n",
    "seq_in = testText[0: seq_length].lower()\n",
    "\n",
    "dataTestX.append([char_to_int[char] for char in seq_in])"
   ]
  },
  {
   "cell_type": "code",
   "execution_count": 23,
   "metadata": {},
   "outputs": [
    {
     "name": "stdout",
     "output_type": "stream",
     "text": [
      "\n",
      "the president’s tax returns reveal another grand twist that has never been truly told — how the popularity of that fictional alter ego rescued him, providing a financial lifeline to reinvent himself \n"
     ]
    }
   ],
   "source": [
    "print(seq_in)"
   ]
  },
  {
   "cell_type": "code",
   "execution_count": 24,
   "metadata": {},
   "outputs": [
    {
     "name": "stdout",
     "output_type": "stream",
     "text": [
      "a\n"
     ]
    }
   ],
   "source": [
    "testX = numpy.reshape(dataTestX, (1, seq_length, 1))\n",
    "\n",
    "prediction = model.predict(testX, verbose=0)\n",
    "index = numpy.argmax(prediction)\n",
    "print(int_to_char[index])"
   ]
  },
  {
   "cell_type": "code",
   "execution_count": 25,
   "metadata": {},
   "outputs": [],
   "source": [
    "resultado = \"\"\n",
    "for i in range(100):\n",
    "    testX = numpy.reshape(dataTestX, (1, seq_length, 1))\n",
    "\n",
    "    prediction = model.predict(testX, verbose=0)\n",
    "    index = numpy.argmax(prediction)\n",
    "    \n",
    "    resultado += int_to_char[index]\n",
    "    \n",
    "    dataTestX[0].pop(0) \n",
    "    dataTestX[0].append(index)\n",
    "\n"
   ]
  },
  {
   "cell_type": "code",
   "execution_count": 26,
   "metadata": {},
   "outputs": [
    {
     "data": {
      "text/plain": [
       "'a po the pr the pr the pr the pr the pr the pr the pr the pr the pr the pr the pr the pr the pr the '"
      ]
     },
     "execution_count": 26,
     "metadata": {},
     "output_type": "execute_result"
    }
   ],
   "source": [
    "resultado\n",
    "                        "
   ]
  },
  {
   "cell_type": "code",
   "execution_count": 27,
   "metadata": {},
   "outputs": [
    {
     "name": "stdout",
     "output_type": "stream",
     "text": [
      "\n",
      "the president’s tax returns reveal another grand twist that has never been truly told — how the popularity of that fictional alter ego rescued him, providing a financial lifeline to reinvent himself a po the pr the pr the pr the pr the pr the pr the pr the pr the pr the pr the pr the pr the pr the \n"
     ]
    }
   ],
   "source": [
    "print(seq_in + resultado)"
   ]
  },
  {
   "cell_type": "code",
   "execution_count": null,
   "metadata": {},
   "outputs": [],
   "source": []
  }
 ],
 "metadata": {
  "kernelspec": {
   "display_name": "Python 3",
   "language": "python",
   "name": "python3"
  },
  "language_info": {
   "codemirror_mode": {
    "name": "ipython",
    "version": 3
   },
   "file_extension": ".py",
   "mimetype": "text/x-python",
   "name": "python",
   "nbconvert_exporter": "python",
   "pygments_lexer": "ipython3",
   "version": "3.6.8"
  }
 },
 "nbformat": 4,
 "nbformat_minor": 2
}
